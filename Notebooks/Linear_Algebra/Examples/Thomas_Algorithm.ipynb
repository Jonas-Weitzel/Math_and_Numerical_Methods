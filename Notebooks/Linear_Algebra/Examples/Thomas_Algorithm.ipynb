{
 "cells": [
  {
   "cell_type": "markdown",
   "id": "7fa72a38",
   "metadata": {},
   "source": [
    "## Thomas Algorithm"
   ]
  },
  {
   "cell_type": "markdown",
   "id": "42c0cd0b",
   "metadata": {},
   "source": [
    "Source: An Introduction to Computational Fluid Dynamics - The FVM (Versteeg)"
   ]
  },
  {
   "cell_type": "code",
   "execution_count": 7,
   "id": "ab6c07a5",
   "metadata": {},
   "outputs": [],
   "source": [
    "using LinearAlgebra"
   ]
  },
  {
   "cell_type": "markdown",
   "id": "c068a2ad",
   "metadata": {},
   "source": [
    "## One Dimension"
   ]
  },
  {
   "cell_type": "code",
   "execution_count": 34,
   "id": "ad50885f",
   "metadata": {},
   "outputs": [],
   "source": [
    "# Problem specs\n",
    "\n",
    "K = [20. -5. 0. 0. 0.\n",
    "    -5. 15. -5. 0. 0.\n",
    "    0. -5. 15. -5. 0.\n",
    "    0. 0. -5. 15. -5.\n",
    "    0. 0. 0. -5. 10.]\n",
    "\n",
    "b = [1100., 100., 100., 100., 100.];"
   ]
  },
  {
   "cell_type": "code",
   "execution_count": null,
   "id": "9f7e7f72",
   "metadata": {},
   "outputs": [
    {
     "data": {
      "text/plain": [
       "5-element Vector{Float64}:\n",
       " 64.22764227642277\n",
       " 36.91056910569106\n",
       " 26.504065040650406\n",
       " 22.60162601626016\n",
       " 21.300813008130078"
      ]
     },
     "metadata": {},
     "output_type": "display_data"
    }
   ],
   "source": [
    "# Getting coefficients\n",
    "D = diag(K)\n",
    "β = - diag(K, -1)\n",
    "α = - diag(K, 1)\n",
    "insert!(β, 1, 0.0)\n",
    "append!(α, 0.0)\n",
    "\n",
    "# Foreward substitution\n",
    "calc_Aⱼ(αⱼ, Dⱼ, βⱼ, Aⱼ₋₁) = αⱼ / ( Dⱼ - βⱼ * Aⱼ₋₁ )\n",
    "calc_Cⱼ(βⱼ, Cⱼ₋₁, bⱼ, Dⱼ, Aⱼ₋₁) = (βⱼ*Cⱼ₋₁ + bⱼ) / (Dⱼ - βⱼ*Aⱼ₋₁)\n",
    "\n",
    "A = zeros(length(b))\n",
    "C = zeros(length(b))\n",
    "\n",
    "j = 1\n",
    "A[j] = calc_Aⱼ(α[j], D[j], β[j], 0.0)\n",
    "C[j] = calc_Cⱼ(β[j], 0.0, b[j], D[j], 0.0)\n",
    "for j in 2:length(b)\n",
    "    A[j] = calc_Aⱼ(α[j], D[j], β[j], A[j-1])\n",
    "    C[j] = calc_Cⱼ(β[j], C[j-1], b[j], D[j], A[j-1])\n",
    "end\n",
    "\n",
    "# Backward substitution\n",
    "Φ = zeros(length(b))\n",
    "calc_Φⱼ(Aⱼ, Φⱼ₊₁, Cⱼ) = Aⱼ * Φⱼ₊₁ + Cⱼ\n",
    "\n",
    "j = length(b)\n",
    "Φ[j] = calc_Φⱼ(A[j], 0.0, C[j])\n",
    "for j in length(b)-1:-1:1\n",
    "    Φ[j] = calc_Φⱼ(A[j], Φ[j+1] , C[j])\n",
    "end\n",
    "\n",
    "Φ"
   ]
  },
  {
   "cell_type": "markdown",
   "id": "29883959",
   "metadata": {},
   "source": [
    "## Two Dimensions"
   ]
  },
  {
   "cell_type": "code",
   "execution_count": 40,
   "id": "11ba9e17",
   "metadata": {},
   "outputs": [
    {
     "data": {
      "text/plain": [
       "12-element Vector{Float64}:\n",
       "  0.0\n",
       " 10.0\n",
       " 10.0\n",
       " 10.0\n",
       "  0.0\n",
       " 10.0\n",
       " 10.0\n",
       " 10.0\n",
       "  0.0\n",
       " 10.0\n",
       " 10.0\n",
       " 10.0"
      ]
     },
     "metadata": {},
     "output_type": "display_data"
    }
   ],
   "source": [
    "N = 12\n",
    "aN = [10., 10., 10., 0., 10., 10., 10., 0., 10., 10., 10., 0.]\n",
    "aS = [0., 10., 10., 10., 0., 10., 10., 10., 0., 10., 10., 10.]\n",
    "aW = copy(aN)\n",
    "aE = copy(aN)\n",
    "aP = copy(aN)\n",
    "Sᵤ = [500., 500., 500., 2500., 0., 0., 0., 2000., 0., 0., 0., 2000.]\n",
    "aS"
   ]
  },
  {
   "cell_type": "code",
   "execution_count": null,
   "id": "a9c9ddfa",
   "metadata": {},
   "outputs": [],
   "source": []
  },
  {
   "cell_type": "code",
   "execution_count": null,
   "id": "bdf7821f",
   "metadata": {},
   "outputs": [],
   "source": []
  }
 ],
 "metadata": {
  "kernelspec": {
   "display_name": "Julia 1.11.5",
   "language": "julia",
   "name": "julia-1.11"
  },
  "language_info": {
   "file_extension": ".jl",
   "mimetype": "application/julia",
   "name": "julia",
   "version": "1.11.5"
  }
 },
 "nbformat": 4,
 "nbformat_minor": 5
}
