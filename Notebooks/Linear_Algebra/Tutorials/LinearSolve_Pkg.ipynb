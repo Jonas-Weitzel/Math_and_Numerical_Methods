{
 "cells": [
  {
   "cell_type": "markdown",
   "metadata": {},
   "source": [
    "# *LinearSolve* Package"
   ]
  },
  {
   "cell_type": "markdown",
   "metadata": {},
   "source": [
    "## Contents\n",
    "\n",
    "- [TBD](#tbd)"
   ]
  },
  {
   "cell_type": "markdown",
   "metadata": {},
   "source": [
    "LinearSolve.jl is a unified interface for the linear solving packages of Julia. It interfaces with other packages of the Julia ecosystem to make it easy to test alternative solver packages and pass small types to control algorithm swapping. It also interfaces with the ModelingToolkit.jl world of symbolic modeling to allow for automatically generating high-performance code."
   ]
  },
  {
   "cell_type": "markdown",
   "metadata": {},
   "source": [
    "## But hWhy?"
   ]
  },
  {
   "cell_type": "code",
   "execution_count": 17,
   "metadata": {},
   "outputs": [],
   "source": [
    "using LinearAlgebra"
   ]
  },
  {
   "cell_type": "code",
   "execution_count": 22,
   "metadata": {},
   "outputs": [],
   "source": [
    "A = [1. 1. 3.\n",
    "     4. 5. 6.\n",
    "     7. 8. 9.]\n",
    "b1 = [1., 2., 3.]\n",
    "b2 = [1., 0., 1.];"
   ]
  },
  {
   "cell_type": "code",
   "execution_count": 28,
   "metadata": {},
   "outputs": [
    {
     "name": "stdout",
     "output_type": "stream",
     "text": [
      "  0.000029 seconds (6 allocations: 304 bytes)\n",
      "  0.000022 seconds (3 allocations: 112 bytes)\n"
     ]
    }
   ],
   "source": [
    "@time A\\b1; A\\b2;\n",
    "@time lu!(A); A\\b1; A\\b2;"
   ]
  },
  {
   "cell_type": "code",
   "execution_count": 43,
   "metadata": {},
   "outputs": [],
   "source": [
    "A = [1. 1. 3.\n",
    "     4. 5. 6.\n",
    "     7. 8. 9.]\n",
    "b1 = [1., 2., 3.]\n",
    "b2 = [1., 0., 1.]\n",
    "x1 = similar(b1);"
   ]
  },
  {
   "cell_type": "code",
   "execution_count": 44,
   "metadata": {},
   "outputs": [
    {
     "name": "stdout",
     "output_type": "stream",
     "text": [
      "  0.000029 seconds (5 allocations: 256 bytes)\n"
     ]
    },
    {
     "data": {
      "text/plain": [
       "3-element Vector{Float64}:\n",
       "  1.4802973661668746e-16\n",
       " -1.2952601953960153e-16\n",
       "  0.3333333333333333"
      ]
     },
     "metadata": {},
     "output_type": "display_data"
    }
   ],
   "source": [
    "@time ldiv!(x1, lu(A), b1)"
   ]
  },
  {
   "cell_type": "markdown",
   "metadata": {},
   "source": [
    "## Solving Linear Systems in Julia"
   ]
  },
  {
   "cell_type": "markdown",
   "metadata": {},
   "source": [
    "A linear system $Au=b$ is specified by defining an `AbstractMatrix A`, or by providing a matrix-free operator for performing `A*x` operations via the function `A(u,p,t)` out-of-place and `A(du,u,p,t)` for in-place. For the sake of simplicity, this tutorial will only showcase concrete matrices.\n",
    "\n",
    "The following defines a matrix and a `LinearProblem` which is subsequently solved by the default linear solver."
   ]
  },
  {
   "cell_type": "code",
   "execution_count": 3,
   "metadata": {},
   "outputs": [
    {
     "data": {
      "text/plain": [
       "4-element Vector{Float64}:\n",
       "  1.5659200410393903\n",
       " -5.486262867417643\n",
       " -4.752664199154205\n",
       " 10.689944190766758"
      ]
     },
     "metadata": {},
     "output_type": "display_data"
    }
   ],
   "source": [
    "using LinearSolve\n",
    "\n",
    "A = rand(4, 4)\n",
    "b = rand(4)\n",
    "prob = LinearProblem(A, b)\n",
    "sol = solve(prob)\n",
    "sol.u"
   ]
  },
  {
   "cell_type": "markdown",
   "metadata": {},
   "source": [
    "Note that `solve(prob)` is equivalent to `solve(prob,nothing)` where nothing denotes the choice of the default linear solver. This is equivalent to the Julia built-in `A\\b`, where the solution is recovered via `sol.u`. The power of this package comes into play when changing the algorithms. For example, *Krylov.jl* has some nice methods like *GMRES* which can be faster in some cases. With *LinearSolve.jl*, there is one interface and changing linear solvers is simply the switch of the algorithm choice:"
   ]
  },
  {
   "cell_type": "code",
   "execution_count": 45,
   "metadata": {},
   "outputs": [
    {
     "data": {
      "text/plain": [
       "4-element Vector{Float64}:\n",
       "  1.5659200410393932\n",
       " -5.48626286741767\n",
       " -4.752664199154221\n",
       " 10.6899441907668"
      ]
     },
     "metadata": {},
     "output_type": "display_data"
    }
   ],
   "source": [
    "sol = solve(prob, KrylovJL_GMRES())\n",
    "sol.u"
   ]
  },
  {
   "cell_type": "markdown",
   "metadata": {},
   "source": [
    "## Avoiding Refactorization"
   ]
  },
  {
   "cell_type": "code",
   "execution_count": 46,
   "metadata": {},
   "outputs": [
    {
     "data": {
      "text/plain": [
       "retcode: Default\n",
       "u: 4-element Vector{Float64}:\n",
       " -0.46103645603353366\n",
       "  0.05660653433983502\n",
       "  0.9790736146374841\n",
       "  0.5449291529716783"
      ]
     },
     "metadata": {},
     "output_type": "display_data"
    }
   ],
   "source": [
    "using LinearSolve\n",
    "\n",
    "n = 4\n",
    "A = rand(n, n)\n",
    "b1 = rand(n);\n",
    "b2 = rand(n);\n",
    "prob = LinearProblem(A, b1)\n",
    "\n",
    "linsolve = init(prob)\n",
    "sol1 = solve!(linsolve)"
   ]
  },
  {
   "cell_type": "code",
   "execution_count": 47,
   "metadata": {},
   "outputs": [
    {
     "data": {
      "text/plain": [
       "4-element Vector{Float64}:\n",
       "  0.9879549541863708\n",
       "  0.49121666125626523\n",
       " -0.579211416259471\n",
       " -0.3970125880491276"
      ]
     },
     "metadata": {},
     "output_type": "display_data"
    }
   ],
   "source": [
    "linsolve.b = b2\n",
    "sol2 = solve!(linsolve)\n",
    "\n",
    "sol2.u"
   ]
  },
  {
   "cell_type": "markdown",
   "metadata": {},
   "source": [
    "## Precoditioners"
   ]
  },
  {
   "cell_type": "markdown",
   "metadata": {},
   "source": [
    "Many linear solvers can be accelerated by using what is known as a **preconditioner**, an approximation to the matrix inverse action which is cheap to evaluate. These can improve the numerical conditioning of the solver process and in turn improve the performance. LinearSolve.jl provides an interface for the definition of preconditioners which works with the wrapped iterative solver packages."
   ]
  },
  {
   "cell_type": "markdown",
   "metadata": {},
   "source": [
    "### Mathematical Definition"
   ]
  },
  {
   "cell_type": "markdown",
   "metadata": {},
   "source": [
    "A right preconditioner, $P_r$ transforms the linear system $Au = b$ into the form:\n",
    "\n",
    "```math\n",
    "AP_r^{-1}(P_r u) = AP_r^{-1}y = b\n",
    "```\n",
    "\n",
    "which is solved for $y$, and then $P_r u = y$ is solved for $u$. The left\n",
    "preconditioner, $P_l$, transforms the linear system into the form:\n",
    "\n",
    "```math\n",
    "P_l^{-1}Au = P_l^{-1}b\n",
    "```\n",
    "\n",
    "A two-sided preconditioned system is of the form:\n",
    "\n",
    "```math\n",
    "P_l^{-1}A P_r^{-1} (P_r u) = P_l^{-1}b\n",
    "```"
   ]
  },
  {
   "cell_type": "markdown",
   "metadata": {},
   "source": [
    "### Specifying Preconditioners"
   ]
  },
  {
   "cell_type": "markdown",
   "metadata": {},
   "source": [
    "One way to specify preconditioners uses the `Pl` and `Pr` keyword arguments to `init` or `solve`: \n",
    "- `Pl` for left and `Pr` for right preconditioner, respectively. \n",
    "- By default, if no preconditioner is given, the preconditioner is assumed to be the identity II.\n",
    "\n",
    "In the following, we will use a left sided diagonal (Jacobi) preconditioner."
   ]
  },
  {
   "cell_type": "code",
   "execution_count": 8,
   "metadata": {},
   "outputs": [
    {
     "data": {
      "text/plain": [
       "4-element Vector{Float64}:\n",
       "  1.7048359279483938\n",
       " -1.059264959257196\n",
       "  0.8812599920748673\n",
       " -1.062083778580742"
      ]
     },
     "metadata": {},
     "output_type": "display_data"
    }
   ],
   "source": [
    "using LinearSolve, LinearAlgebra, BenchmarkTools\n",
    "\n",
    "n = 4\n",
    "A = rand(n, n)\n",
    "b = rand(n)\n",
    "\n",
    "Pl = Diagonal(A)\n",
    "\n",
    "prob = LinearProblem(A, b)\n",
    "sol = solve(prob, KrylovJL_GMRES(), Pl = Pl)\n",
    "sol.u"
   ]
  },
  {
   "cell_type": "code",
   "execution_count": 9,
   "metadata": {},
   "outputs": [
    {
     "name": "stdout",
     "output_type": "stream",
     "text": [
      "  1.960 μs (50 allocations: 2.44 KiB)\n",
      "  2.300 μs (54 allocations: 2.56 KiB)\n"
     ]
    }
   ],
   "source": [
    "@btime solve(prob, KrylovJL_GMRES());\n",
    "@btime solve(prob, KrylovJL_GMRES(), Pl = Pl);"
   ]
  },
  {
   "cell_type": "markdown",
   "metadata": {},
   "source": [
    "Alternatively, preconditioners can be specified via the `precs` argument to the constructor of an iterative solver specification. This argument shall deliver a factory method mapping `A` and a parameter `p` to a tuple `(Pl,Pr)` consisting a left and a right preconditioner."
   ]
  },
  {
   "cell_type": "code",
   "execution_count": null,
   "metadata": {},
   "outputs": [],
   "source": [
    "using LinearSolve, LinearAlgebra\n",
    "\n",
    "n = 4\n",
    "A = rand(n, n)\n",
    "b = rand(n)\n",
    "\n",
    "prob = LinearProblem(A, b)\n",
    "sol = solve(prob, KrylovJL_GMRES(precs = (A, p) -> (Diagonal(A), I)))\n",
    "sol.u"
   ]
  },
  {
   "cell_type": "markdown",
   "metadata": {},
   "source": [
    "This approach has the advantage that the specification of the preconditioner is possible without the knowledge of a concrete matrix A. It also allows to specify the preconditioner via a callable object and to pass parameters to the constructor of the preconditioner instances. The example below also shows how to reuse the preconditioner once constructed for the subsequent solution of a modified problem."
   ]
  },
  {
   "cell_type": "code",
   "execution_count": null,
   "metadata": {},
   "outputs": [],
   "source": [
    "using LinearSolve, LinearAlgebra\n",
    "\n",
    "Base.@kwdef struct WeightedDiagonalPreconBuilder\n",
    "    w::Float64\n",
    "end\n",
    "\n",
    "(builder::WeightedDiagonalPreconBuilder)(A, p) = (builder.w * Diagonal(A), I)\n",
    "\n",
    "n = 4\n",
    "A = n * I - rand(n, n)\n",
    "b = rand(n)\n",
    "\n",
    "prob = LinearProblem(A, b)\n",
    "sol = solve(prob, KrylovJL_GMRES(precs = WeightedDiagonalPreconBuilder(w = 0.9)))\n",
    "sol.u\n",
    "\n",
    "B = A .+ 0.1\n",
    "cache = sol.cache\n",
    "reinit!(cache, A = B, reuse_precs = true)\n",
    "sol = solve!(cache, KrylovJL_GMRES(precs = WeightedDiagonalPreconBuilder(w = 0.9)))\n",
    "sol.u"
   ]
  },
  {
   "cell_type": "markdown",
   "metadata": {},
   "source": [
    "### Preconditioners in Julia"
   ]
  },
  {
   "cell_type": "markdown",
   "metadata": {},
   "source": [
    "Check out [the docs](#https://docs.sciml.ai/LinearSolve/stable/basics/Preconditioners/) for more info."
   ]
  },
  {
   "cell_type": "code",
   "execution_count": null,
   "metadata": {},
   "outputs": [],
   "source": []
  }
 ],
 "metadata": {
  "kernelspec": {
   "display_name": "Julia 1.11.3",
   "language": "julia",
   "name": "julia-1.11"
  },
  "language_info": {
   "file_extension": ".jl",
   "mimetype": "application/julia",
   "name": "julia",
   "version": "1.11.3"
  }
 },
 "nbformat": 4,
 "nbformat_minor": 2
}
