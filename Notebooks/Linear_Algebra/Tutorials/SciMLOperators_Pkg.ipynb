{
 "cells": [
  {
   "cell_type": "markdown",
   "id": "778d1676",
   "metadata": {},
   "source": [
    "# SciMLOperators.jl"
   ]
  },
  {
   "cell_type": "markdown",
   "id": "d292f6a4",
   "metadata": {},
   "source": []
  },
  {
   "cell_type": "markdown",
   "id": "5f72398f",
   "metadata": {},
   "source": [
    "## Simplest Operator: MatrixOperator"
   ]
  },
  {
   "cell_type": "markdown",
   "id": "6d44fb38",
   "metadata": {},
   "source": [
    "`MatrixOperator` just turns a matrix into an `AbstractSciMLOperator`, so it's not really a matrix-free operator but it's a starting point that is good for understanding the interface and testing."
   ]
  },
  {
   "cell_type": "code",
   "execution_count": 21,
   "id": "c4b13931",
   "metadata": {},
   "outputs": [
    {
     "data": {
      "text/plain": [
       "MatrixOperator(5 × 5)"
      ]
     },
     "metadata": {},
     "output_type": "display_data"
    }
   ],
   "source": [
    "using SciMLOperators, LinearAlgebra\n",
    "\n",
    "A = [-2.0  1  0  0  0\n",
    "      1 -2  1  0  0\n",
    "      0  1 -2  1  0\n",
    "      0  0  1 -2  1\n",
    "      0  0  0  1 -2]\n",
    "\n",
    "opA = MatrixOperator(A)"
   ]
  },
  {
   "cell_type": "markdown",
   "id": "67dfd272",
   "metadata": {},
   "source": [
    "The operators can do operations as defined in the operator interface, for example, matrix multiplication as the core action:"
   ]
  },
  {
   "cell_type": "code",
   "execution_count": 22,
   "id": "c6fc3832",
   "metadata": {},
   "outputs": [
    {
     "data": {
      "text/plain": [
       "5-element Vector{Float64}:\n",
       " -8.0\n",
       "  0.0\n",
       "  4.0\n",
       "  0.0\n",
       " -8.0"
      ]
     },
     "metadata": {},
     "output_type": "display_data"
    }
   ],
   "source": [
    "v = [3.0,2.0,1.0,2.0,3.0]\n",
    "\n",
    "# Different options:\n",
    "opA*v\n",
    "# opA(v, nothing, nothing, nothing) \n",
    "w = zeros(5)\n",
    "mul!(w, opA, v)\n",
    "α = 1.0; β = 1.0\n",
    "mul!(w, opA, v, α, β)           # α*opA*v + β*w"
   ]
  },
  {
   "cell_type": "markdown",
   "id": "63cf11d4",
   "metadata": {},
   "source": [
    "and the inverse operation:"
   ]
  },
  {
   "cell_type": "code",
   "execution_count": 23,
   "id": "3dc0cb8d",
   "metadata": {},
   "outputs": [
    {
     "data": {
      "text/plain": [
       "5-element Vector{Float64}:\n",
       " -5.5\n",
       " -7.999999999999999\n",
       " -8.499999999999998\n",
       " -8.0\n",
       " -5.5"
      ]
     },
     "metadata": {},
     "output_type": "display_data"
    }
   ],
   "source": [
    "opA \\ v\n",
    "ldiv!(w, lu(opA), v)"
   ]
  },
  {
   "cell_type": "markdown",
   "id": "797a7bdb",
   "metadata": {},
   "source": [
    "## State, Parameter, and Time-Dependent Operators"
   ]
  },
  {
   "cell_type": "markdown",
   "id": "1cb59470",
   "metadata": {},
   "source": [
    "Now let's define a `MatrixOperator` that is dependent on state, parameters, and time. For example, let's make the operator `A .* u + dt*I` where `dt` is a parameter and `u` is a state vector:"
   ]
  },
  {
   "cell_type": "code",
   "execution_count": 24,
   "id": "8e2182e4",
   "metadata": {},
   "outputs": [
    {
     "data": {
      "text/plain": [
       "MatrixOperator(5 × 5)"
      ]
     },
     "metadata": {},
     "output_type": "display_data"
    }
   ],
   "source": [
    "A = [-2.0  1  0  0  0\n",
    "      1 -2  1  0  0\n",
    "      0  1 -2  1  0\n",
    "      0  0  1 -2  1\n",
    "      0  0  0  1 -2]\n",
    "\n",
    "function update_function!(B, u, p, t)\n",
    "    dt = p\n",
    "    B .= A .* u + dt*I\n",
    "end\n",
    "\n",
    "u = Array(1:1.0:5); p = 0.1; t = 0.0\n",
    "opB = MatrixOperator(copy(A); update_func! = update_function!)"
   ]
  },
  {
   "cell_type": "markdown",
   "id": "d6b19222",
   "metadata": {},
   "source": [
    "To update the operator, you would use `update_coefficients!(opB, u, p, t)`:"
   ]
  },
  {
   "cell_type": "code",
   "execution_count": 25,
   "id": "3b821ec3",
   "metadata": {},
   "outputs": [],
   "source": [
    "update_coefficients!(opB, u, p, t)"
   ]
  },
  {
   "cell_type": "markdown",
   "id": "996e0017",
   "metadata": {},
   "source": [
    "We can use the interface to see what the current matrix is by converting to a standard matrix:"
   ]
  },
  {
   "cell_type": "code",
   "execution_count": 26,
   "id": "ff334e89",
   "metadata": {},
   "outputs": [
    {
     "data": {
      "text/plain": [
       "5×5 Matrix{Float64}:\n",
       " -1.9   1.0   0.0   0.0   0.0\n",
       "  2.0  -3.9   2.0   0.0   0.0\n",
       "  0.0   3.0  -5.9   3.0   0.0\n",
       "  0.0   0.0   4.0  -7.9   4.0\n",
       "  0.0   0.0   0.0   5.0  -9.9"
      ]
     },
     "metadata": {},
     "output_type": "display_data"
    }
   ],
   "source": [
    "convert(AbstractMatrix, opB)"
   ]
  },
  {
   "cell_type": "code",
   "execution_count": 27,
   "id": "839421b7",
   "metadata": {},
   "outputs": [
    {
     "data": {
      "text/plain": [
       "5-element Vector{Float64}:\n",
       "  -3.6999999999999993\n",
       "   0.20000000000000018\n",
       "   6.1\n",
       "   0.1999999999999993\n",
       " -19.700000000000003"
      ]
     },
     "metadata": {},
     "output_type": "display_data"
    }
   ],
   "source": [
    "opB*v"
   ]
  },
  {
   "cell_type": "markdown",
   "id": "5599fee8",
   "metadata": {},
   "source": [
    "## Matrix-Free Operators via FunctionOperator"
   ]
  },
  {
   "cell_type": "markdown",
   "id": "f0945adf",
   "metadata": {},
   "source": [
    "The goal now is to define the function in a matrix-free way:"
   ]
  },
  {
   "cell_type": "code",
   "execution_count": 31,
   "id": "2d7f2120",
   "metadata": {},
   "outputs": [
    {
     "data": {
      "text/plain": [
       "FunctionOperator(5 × 5)"
      ]
     },
     "metadata": {},
     "output_type": "display_data"
    }
   ],
   "source": [
    "function Afunc!(w,v,u,p,t)\n",
    "    w[1] = -2v[1] + v[2]\n",
    "    for i in 2:4\n",
    "        w[i] = v[i-1] - 2v[i] + v[i+1]\n",
    "    end\n",
    "    w[5] = v[4] - 2v[5]\n",
    "    nothing\n",
    "end\n",
    "\n",
    "function Afunc!(v,u,p,t)\n",
    "    w = zeros(5)\n",
    "    Afunc!(w,v,u,p,t)\n",
    "    w\n",
    "end\n",
    "\n",
    "mfopA = FunctionOperator(Afunc!, zeros(5), zeros(5))"
   ]
  },
  {
   "cell_type": "code",
   "execution_count": 40,
   "id": "4057d9ac",
   "metadata": {},
   "outputs": [
    {
     "ename": "MethodError",
     "evalue": "MethodError: no method matching *(::FunctionOperator{true, false, false, Float64, typeof(Afunc!), Nothing, Nothing, Nothing, @NamedTuple{islinear::Bool, isconvertible::Bool, isconstant::Bool, opnorm::Nothing, issymmetric::Bool, ishermitian::Bool, isposdef::Bool, isinplace::Bool, outofplace::Bool, has_mul5::Bool, ifcache::Bool, T::DataType, batch::Bool, size::Tuple{Int64, Int64}, sizes::Tuple{Tuple{Int64}, Tuple{Int64}}, accepted_kwargs::Val{()}, kwargs::@NamedTuple{}}, Nothing, Float64, Tuple{Vector{Float64}, Vector{Float64}}, Float64, Float64}, ::Vector{Float64})\nThe function `*` exists, but no method is defined for this combination of argument types.\n\nClosest candidates are:\n  *(::Any, ::Any, !Matched::Any, !Matched::Any...)\n   @ Base operators.jl:596\n  *(!Matched::NullOperator, ::AbstractVecOrMat)\n   @ SciMLOperators C:\\Users\\jonas\\.julia\\packages\\SciMLOperators\\2UPBq\\src\\basic.jl:133\n  *(::SciMLOperators.AbstractSciMLOperator, !Matched::IdentityOperator)\n   @ SciMLOperators C:\\Users\\jonas\\.julia\\packages\\SciMLOperators\\2UPBq\\src\\basic.jl:79\n  ...\n",
     "output_type": "error",
     "traceback": [
      "MethodError: no method matching *(::FunctionOperator{true, false, false, Float64, typeof(Afunc!), Nothing, Nothing, Nothing, @NamedTuple{islinear::Bool, isconvertible::Bool, isconstant::Bool, opnorm::Nothing, issymmetric::Bool, ishermitian::Bool, isposdef::Bool, isinplace::Bool, outofplace::Bool, has_mul5::Bool, ifcache::Bool, T::DataType, batch::Bool, size::Tuple{Int64, Int64}, sizes::Tuple{Tuple{Int64}, Tuple{Int64}}, accepted_kwargs::Val{()}, kwargs::@NamedTuple{}}, Nothing, Float64, Tuple{Vector{Float64}, Vector{Float64}}, Float64, Float64}, ::Vector{Float64})\n",
      "The function `*` exists, but no method is defined for this combination of argument types.\n",
      "\n",
      "Closest candidates are:\n",
      "  *(::Any, ::Any, !Matched::Any, !Matched::Any...)\n",
      "   @ Base operators.jl:596\n",
      "  *(!Matched::NullOperator, ::AbstractVecOrMat)\n",
      "   @ SciMLOperators C:\\Users\\jonas\\.julia\\packages\\SciMLOperators\\2UPBq\\src\\basic.jl:133\n",
      "  *(::SciMLOperators.AbstractSciMLOperator, !Matched::IdentityOperator)\n",
      "   @ SciMLOperators C:\\Users\\jonas\\.julia\\packages\\SciMLOperators\\2UPBq\\src\\basic.jl:79\n",
      "  ...\n",
      "\n",
      "\n",
      "Stacktrace:\n",
      " [1] top-level scope\n",
      "   @ c:\\Users\\jonas\\OneDrive\\Desktop\\Programming\\Julia\\Math_and_Numerical_Methods\\Notebooks\\Linear_Algebra\\Tutorials\\jl_notebook_cell_df34fa98e69747e1a8f8a730347b8e2f_X24sZmlsZQ==.jl:1"
     ]
    }
   ],
   "source": [
    "mfopA*v"
   ]
  },
  {
   "cell_type": "code",
   "execution_count": null,
   "id": "2d986085",
   "metadata": {},
   "outputs": [],
   "source": []
  },
  {
   "cell_type": "code",
   "execution_count": null,
   "id": "060d1a15",
   "metadata": {},
   "outputs": [],
   "source": []
  }
 ],
 "metadata": {
  "kernelspec": {
   "display_name": "Julia 1.11.5",
   "language": "julia",
   "name": "julia-1.11"
  },
  "language_info": {
   "file_extension": ".jl",
   "mimetype": "application/julia",
   "name": "julia",
   "version": "1.11.5"
  }
 },
 "nbformat": 4,
 "nbformat_minor": 5
}
