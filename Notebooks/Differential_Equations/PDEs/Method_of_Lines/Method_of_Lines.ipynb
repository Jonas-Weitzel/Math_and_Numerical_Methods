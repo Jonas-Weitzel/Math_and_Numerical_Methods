{
 "cells": [
  {
   "cell_type": "code",
   "execution_count": 9,
   "metadata": {},
   "outputs": [],
   "source": []
  },
  {
   "cell_type": "markdown",
   "metadata": {},
   "source": [
    "# Getting Started"
   ]
  },
  {
   "cell_type": "markdown",
   "metadata": {},
   "source": [
    "## Using the Brusselator PDE as an example\n",
    "\n",
    "The Brusselator PDE is defined as follows:\n",
    "\n",
    "```math\n",
    "\\begin{align}\n",
    "\\frac{\\partial u}{\\partial t} &= 1 + u^2v - 4.4u + \\alpha(\\frac{\\partial^2 u}{\\partial x^2} + \\frac{\\partial^2 u}{\\partial y^2}) + f(x, y, t)\\\\\n",
    "\\frac{\\partial v}{\\partial t} &= 3.4u - u^2v + \\alpha(\\frac{\\partial^2 v}{\\partial x^2} + \\frac{\\partial^2 v}{\\partial y^2})\n",
    "\\end{align}\n",
    "```\n",
    "\n",
    "where\n",
    "\n",
    "```math\n",
    "f(x, y, t) = \\begin{cases}\n",
    "5 & \\quad \\text{if } (x-0.3)^2+(y-0.6)^2 ≤ 0.1^2 \\text{ and } t ≥ 1.1 \\\\\n",
    "0 & \\quad \\text{else}\n",
    "\\end{cases}\n",
    "```\n",
    "\n",
    "and the initial conditions are\n",
    "\n",
    "```math\n",
    "\\begin{align}\n",
    "u(x, y, 0) &= 22\\cdot (y(1-y))^{3/2} \\\\\n",
    "v(x, y, 0) &= 27\\cdot (x(1-x))^{3/2}\n",
    "\\end{align}\n",
    "```\n",
    "\n",
    "with the periodic boundary condition\n",
    "\n",
    "```math\n",
    "\\begin{align}\n",
    "u(x+1,y,t) &= u(x,y,t) \\\\\n",
    "u(x,y+1,t) &= u(x,y,t)\n",
    "\\end{align}\n",
    "```\n",
    "\n",
    "on a timespan of ``t \\in [0,11.5]``."
   ]
  },
  {
   "cell_type": "markdown",
   "metadata": {},
   "source": [
    "### Solving with MethodOfLines\n",
    "\n",
    "With `ModelingToolkit.jl`, we first symbolically define the system, see also the docs for [`PDESystem`](https://docs.sciml.ai/ModelingToolkit/stable/systems/PDESystem/):"
   ]
  },
  {
   "cell_type": "code",
   "execution_count": 10,
   "metadata": {},
   "outputs": [
    {
     "data": {
      "text/plain": [
       "Differential(y) ∘ Differential(y)"
      ]
     },
     "metadata": {},
     "output_type": "display_data"
    }
   ],
   "source": [
    "using ModelingToolkit, MethodOfLines, OrdinaryDiffEq, DomainSets\n",
    "\n",
    "@parameters x y t\n",
    "@variables u(..) v(..)\n",
    "Dt = Differential(t)\n",
    "Dx = Differential(x)\n",
    "Dy = Differential(y)\n",
    "Dxx = Differential(x)^2\n",
    "Dyy = Differential(y)^2"
   ]
  },
  {
   "cell_type": "code",
   "execution_count": 16,
   "metadata": {},
   "outputs": [
    {
     "data": {
      "text/latex": [
       "$$ \\begin{align}\n",
       "\\frac{\\mathrm{d}}{\\mathrm{d}t} u\\left( x, y, t \\right) &= 1 + 10 \\left( \\frac{\\mathrm{d}}{\\mathrm{d}x} \\frac{\\mathrm{d}}{\\mathrm{d}x} u\\left( x, y, t \\right) + \\frac{\\mathrm{d}}{\\mathrm{d}y} \\frac{\\mathrm{d}}{\\mathrm{d}y} u\\left( x, y, t \\right) \\right) - 4.4 u\\left( x, y, t \\right) + 5 \\left( \\left( -0.3 + x \\right)^{2} + \\left( -0.6 + y \\right)^{2} \\leq 0.01 \\right) \\left( t \\geq 1.1 \\right) + \\left( u\\left( x, y, t \\right) \\right)^{2} v\\left( x, y, t \\right) \\\\\n",
       "\\frac{\\mathrm{d}}{\\mathrm{d}t} v\\left( x, y, t \\right) &= 3.4 u\\left( x, y, t \\right) + 10 \\left( \\frac{\\mathrm{d}}{\\mathrm{d}x} \\frac{\\mathrm{d}}{\\mathrm{d}x} v\\left( x, y, t \\right) + \\frac{\\mathrm{d}}{\\mathrm{d}y} \\frac{\\mathrm{d}}{\\mathrm{d}y} v\\left( x, y, t \\right) \\right) - \\left( u\\left( x, y, t \\right) \\right)^{2} v\\left( x, y, t \\right)\n",
       "\\end{align}\n",
       " $$"
      ],
      "text/plain": [
       "PDESystem\n",
       "Equations: Equation[Differential(t)(u(x, y, t)) ~ 1.0 + 10.0(Differential(x)(Differential(x)(u(x, y, t))) + Differential(y)(Differential(y)(u(x, y, t)))) - 4.4u(x, y, t) + 5.0(((-0.3 + x)^2 + (-0.6 + y)^2) <= 0.010000000000000002)*(t >= 1.1) + (u(x, y, t)^2)*v(x, y, t), Differential(t)(v(x, y, t)) ~ 3.4u(x, y, t) + 10.0(Differential(x)(Differential(x)(v(x, y, t))) + Differential(y)(Differential(y)(v(x, y, t)))) - (u(x, y, t)^2)*v(x, y, t)]\n",
       "Boundary Conditions: Equation[u(x, y, 0) ~ 22.0(y^1.5)*((1 - y)^1.5), u(0, y, t) ~ u(1, y, t), u(x, 0, t) ~ u(x, 1, t), v(x, y, 0) ~ 27.0((1 - x)^1.5)*(x^1.5), v(0, y, t) ~ v(1, y, t), v(x, 0, t) ~ v(x, 1, t)]\n",
       "Domain: Symbolics.VarDomainPairing[Symbolics.VarDomainPairing(x, 0.0 .. 1.0), Symbolics.VarDomainPairing(y, 0.0 .. 1.0), Symbolics.VarDomainPairing(t, 0.0 .. 11.5)]\n",
       "Dependent Variables: Num[u(x, y, t), v(x, y, t)]\n",
       "Independent Variables: Num[x, y, t]\n",
       "Parameters: SciMLBase.NullParameters()\n",
       "Default Parameter ValuesDict{Any, Any}()"
      ]
     },
     "metadata": {},
     "output_type": "display_data"
    }
   ],
   "source": [
    "∇²(u) = Dxx(u) + Dyy(u)\n",
    "\n",
    "brusselator_f(x, y, t) = (((x - 0.3)^2 + (y - 0.6)^2) <= 0.1^2) * (t >= 1.1) * 5.0\n",
    "\n",
    "x_min = y_min = t_min = 0.0\n",
    "x_max = y_max = 1.0\n",
    "t_max = 11.5\n",
    "\n",
    "α = 10.0\n",
    "\n",
    "u0(x, y, t) = 22(y * (1-y))^(3 / 2)\n",
    "v0(x, y, t) = 27(x * (1-x))^(3 / 2)\n",
    "\n",
    "eq = [\n",
    "    Dt(u(x,y,t)) ~ 1.0 + v(x,y,t) * u(x,y,t)^2 - 4.4 * u(x,y,t) + α * ∇²(u(x,y,t)) + brusselator_f(x,y,t),\n",
    "    Dt(v(x,y,t)) ~ 3.4 * u(x,y,t) - v(x,y,t) * u(x,y,t)^2 + α * ∇²(v(x,y,t))\n",
    "]\n",
    "\n",
    "domains = [x ∈ Interval(x_min, x_max),\n",
    "           y ∈ Interval(y_min, y_max),\n",
    "           t ∈ Interval(t_min, t_max)]\n",
    "\n",
    "# Periodic BCs\n",
    "bcs = [u(x, y, 0) ~ u0(x, y, 0),\n",
    "u(0, y, t) ~ u(1, y, t),\n",
    "u(x, 0, t) ~ u(x, 1, t), v(x, y, 0) ~ v0(x, y, 0),\n",
    "v(0, y, t) ~ v(1, y, t),\n",
    "v(x, 0, t) ~ v(x, 1, t)]\n",
    "\n",
    "@named pdesys = PDESystem(eq, bcs, domains, [x, y, t], [u(x, y, t), v(x, y, t)])"
   ]
  },
  {
   "cell_type": "markdown",
   "metadata": {},
   "source": [
    "### Method of lines discretization"
   ]
  },
  {
   "cell_type": "code",
   "execution_count": 17,
   "metadata": {},
   "outputs": [
    {
     "data": {
      "text/plain": [
       "MOLFiniteDifference{MethodOfLines.CenterAlignedGrid, MethodOfLines.ScalarizedDiscretization}(Dict{Num, Int64}(y => 32, x => 32), t, 2, UpwindScheme(1), MethodOfLines.CenterAlignedGrid(), true, false, MethodOfLines.ScalarizedDiscretization(), true, Any[], Base.Pairs{Symbol, Union{}, Tuple{}, @NamedTuple{}}())"
      ]
     },
     "metadata": {},
     "output_type": "display_data"
    }
   ],
   "source": [
    "N = 32\n",
    "\n",
    "order = 2 # This may be increased to improve accuracy of some schemes\n",
    "\n",
    "# Integers for x and y are interpreted as number of points. Use a Float to directtly specify stepsizes dx and dy.\n",
    "discretization = MOLFiniteDifference([x => N, y => N], t, approx_order = order)"
   ]
  },
  {
   "cell_type": "code",
   "execution_count": 18,
   "metadata": {},
   "outputs": [
    {
     "name": "stdout",
     "output_type": "stream",
     "text": [
      "Discretization:\n"
     ]
    },
    {
     "name": "stderr",
     "output_type": "stream",
     "text": [
      "┌ Warning: The system contains interface boundaries, which are not compatible with system transformation. The system will not be transformed. Please post an issue if you need this feature.\n",
      "└ @ MethodOfLines C:\\Users\\jonas\\.julia\\packages\\MethodOfLines\\YI4uA\\src\\system_parsing\\pde_system_transformation.jl:43\n"
     ]
    },
    {
     "name": "stdout",
     "output_type": "stream",
     "text": [
      " 76.487221 seconds (206.48 M allocations: 12.262 GiB, 7.93% gc time, 8.62% compilation time: 58% of which was recompilation)\n"
     ]
    },
    {
     "data": {
      "text/plain": [
       "\u001b[38;2;86;182;194mODEProblem\u001b[0m with uType \u001b[38;2;86;182;194mVector{Float64}\u001b[0m and tType \u001b[38;2;86;182;194mFloat64\u001b[0m. In-place: \u001b[38;2;86;182;194mtrue\u001b[0m\n",
       "timespan: (0.0, 11.5)\n",
       "u0: 1922-element Vector{Float64}:\n",
       " 0.12134432813715874\n",
       " 0.12134432813715874\n",
       " 0.12134432813715874\n",
       " 0.12134432813715874\n",
       " 0.12134432813715874\n",
       " 0.12134432813715874\n",
       " 0.12134432813715874\n",
       " 0.12134432813715874\n",
       " 0.12134432813715874\n",
       " 0.12134432813715874\n",
       " ⋮\n",
       " 2.262066755474226\n",
       " 1.9735248771761977\n",
       " 1.6650051119921914\n",
       " 1.3433640166822105\n",
       " 1.0172186542655526\n",
       " 0.6977464117458192\n",
       " 0.4003323380813969\n",
       " 0.14892258453196736\n",
       " 0.0"
      ]
     },
     "metadata": {},
     "output_type": "display_data"
    }
   ],
   "source": [
    "# Convert the PDE problem into an ODE problem\n",
    "println(\"Discretization:\")\n",
    "@time prob = discretize(pdesys, discretization);"
   ]
  },
  {
   "cell_type": "markdown",
   "metadata": {},
   "source": [
    "### Solving problem"
   ]
  },
  {
   "cell_type": "markdown",
   "metadata": {},
   "source": [
    "Now your problem can be solved with an appropriate ODE solver, or Nonlinear solver if you have not supplied a time dimension in the `MOLFiniteDifference` constructor. Include these solvers with `using OrdinaryDiffEq` or `using NonlinearSolve`, then call `sol = solve(prob, AppropriateSolver())` or `sol = NonlinearSolve.solve(prob, AppropriateSolver())`. For more information on the available solvers, see the docs for [`DifferentialEquations.jl`](https://docs.sciml.ai/DiffEqDocs/stable/solvers/ode_solve/), [`NonlinearSolve.jl`](http://docs.sciml.ai/NonlinearSolve/stable/solvers/NonlinearSystemSolvers/) and [SteadyStateDiffEq.jl](https://docs.sciml.ai/DiffEqDocs/stable/solvers/steady_state_solve/#SteadyStateDiffEq.jl). `Tsit5()` is a good first choice of solver for many problems. Some problems, particularly advection dominated ones, are better solved with [implicit DAE solvers](https://docs.sciml.ai/DiffEqDocs/stable/solvers/dae_solve/)."
   ]
  },
  {
   "cell_type": "code",
   "execution_count": 19,
   "metadata": {},
   "outputs": [],
   "source": [
    "println(\"Solve:\")\n",
    "@time sol = solve(prob, TRBDF2(), saveat = 0.1)"
   ]
  },
  {
   "cell_type": "markdown",
   "metadata": {},
   "source": [
    "### Extracting results"
   ]
  },
  {
   "cell_type": "markdown",
   "metadata": {},
   "source": [
    "To retrieve your solution, for example for `u`, use `sol[u(x, y, t)]`. To get the independent variable axes, use `sol[t]`. For more information on the solution interface, see manual."
   ]
  },
  {
   "cell_type": "code",
   "execution_count": null,
   "metadata": {},
   "outputs": [],
   "source": [
    "discrete_x = sol[x]\n",
    "discrete_y = sol[y]\n",
    "discrete_t = sol[t]\n",
    "\n",
    "solu = sol[u(x, y, t)]\n",
    "solv = sol[v(x, y, t)]"
   ]
  },
  {
   "cell_type": "code",
   "execution_count": null,
   "metadata": {},
   "outputs": [],
   "source": [
    "using Plots\n",
    "anim = @animate for k in 1:length(discrete_t)\n",
    "    heatmap(solu[2:end, 2:end, k], title = \"$(discrete_t[k])\") # 2:end since end = 1, periodic condition\n",
    "end\n",
    "gif(anim, \"Brusselator2Dsol_u.gif\", fps = 8)"
   ]
  },
  {
   "cell_type": "code",
   "execution_count": null,
   "metadata": {},
   "outputs": [],
   "source": []
  },
  {
   "cell_type": "markdown",
   "metadata": {},
   "source": [
    "## Check this out"
   ]
  },
  {
   "cell_type": "markdown",
   "metadata": {},
   "source": [
    "Let's optimize the solution of a 2D Reaction-Diffusion PDE's discretization.\n",
    "In its discretized form, this is the ODE:\n",
    "\n",
    "```math\n",
    "\\begin{align}\n",
    "du &= D_1 (A_y u + u A_x) + \\frac{au^2}{v} + \\bar{u} - \\alpha u\\\\\n",
    "dv &= D_2 (A_y v + v A_x) + a u^2 + \\beta v\n",
    "\\end{align}\n",
    "```\n",
    "\n",
    "where ``u``, ``v``, and ``A`` are matrices. Here, we will use the simplified\n",
    "version where ``A`` is the tridiagonal stencil ``[1,-2,1]``, i.e., it's the 2D\n",
    "discretization of the Laplacian. \n",
    "\n",
    "The native code would be something along the\n",
    "lines of:"
   ]
  },
  {
   "cell_type": "code",
   "execution_count": null,
   "metadata": {},
   "outputs": [],
   "source": [
    "using DifferentialEquations, LinearAlgebra, BenchmarkTools\n",
    "\n",
    "# Generate the constants\n",
    "p = (1.0, 1.0, 1.0, 10.0, 0.001, 100.0)                                 # a, α, ubar, β, D1, D2\n",
    "N = 100\n",
    "Ax = Array(Tridiagonal([1.0 for i in 1:(N - 1)], [-2.0 for i in 1:N], [1.0 for i in 1:(N - 1)]))\n",
    "Ay = copy(Ax)\n",
    "Ax[2, 1] = 2.0\n",
    "Ax[end - 1, end] = 2.0\n",
    "Ay[1, 2] = 2.0\n",
    "Ay[end, end - 1] = 2.0\n",
    "\n",
    "function basic_version!(dr, r, p, t)\n",
    "    a, α, ubar, β, D1, D2 = p\n",
    "    u = r[:, :, 1]\n",
    "    v = r[:, :, 2]\n",
    "    Du = D1 * (Ay * u + u * Ax)\n",
    "    Dv = D2 * (Ay * v + v * Ax)\n",
    "    dr[:, :, 1] = Du .+ a .* u .* u ./ v .+ ubar .- α * u\n",
    "    dr[:, :, 2] = Dv .+ a .* u .* u .- β * v\n",
    "end\n",
    "\n",
    "a, α, ubar, β, D1, D2 = p\n",
    "uss = (ubar + β) / α\n",
    "vss = (a / β) * uss^2\n",
    "r0 = zeros(100, 100, 2)\n",
    "r0[:, :, 1] .= uss .+ 0.1 .* rand.()\n",
    "r0[:, :, 2] .= vss\n",
    "\n",
    "prob = ODEProblem(basic_version!, r0, (0.0, 0.1), p);"
   ]
  },
  {
   "cell_type": "markdown",
   "metadata": {},
   "source": [
    "In this version, we have encoded our initial condition to be a 3-dimensional array, with `u[:,:,1]` being the `A` part and `u[:,:,2]` being the `B` part."
   ]
  },
  {
   "cell_type": "code",
   "execution_count": null,
   "metadata": {},
   "outputs": [
    {
     "name": "stdout",
     "output_type": "stream",
     "text": [
      "  123.806 ms (9253 allocations: 194.50 MiB)\n"
     ]
    }
   ],
   "source": [
    "@btime solve(prob, Tsit5());"
   ]
  },
  {
   "cell_type": "code",
   "execution_count": null,
   "metadata": {},
   "outputs": [],
   "source": []
  },
  {
   "cell_type": "code",
   "execution_count": null,
   "metadata": {},
   "outputs": [],
   "source": []
  }
 ],
 "metadata": {
  "kernelspec": {
   "display_name": "Julia 1.10.5",
   "language": "julia",
   "name": "julia-1.10"
  },
  "language_info": {
   "file_extension": ".jl",
   "mimetype": "application/julia",
   "name": "julia",
   "version": "1.10.5"
  }
 },
 "nbformat": 4,
 "nbformat_minor": 2
}
