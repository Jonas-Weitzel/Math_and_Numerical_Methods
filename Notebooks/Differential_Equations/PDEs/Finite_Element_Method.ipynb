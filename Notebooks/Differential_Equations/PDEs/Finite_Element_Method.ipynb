{
 "cells": [
  {
   "cell_type": "markdown",
   "id": "b1341e71",
   "metadata": {},
   "source": [
    "Lets just try coding finite elements here."
   ]
  },
  {
   "cell_type": "markdown",
   "id": "43d185ea",
   "metadata": {},
   "source": [
    "$$ \\int_0^1 c(x) \\frac{du}{dx} \\frac{dv}{dx} dx = \\int_0^1 f(x) v(x) dx $$"
   ]
  },
  {
   "cell_type": "code",
   "execution_count": null,
   "id": "f54454a3",
   "metadata": {},
   "outputs": [
    {
     "data": {
      "text/plain": [
       "0.0:0.25:1.0"
      ]
     },
     "metadata": {},
     "output_type": "display_data"
    }
   ],
   "source": [
    "L = 1.0\n",
    "Nx = 5\n",
    "dx = L / (Nx-1)\n",
    "\n",
    "x_vec = range(0, L, Nx)\n",
    "\n",
    "phi_1(x) = "
   ]
  },
  {
   "cell_type": "code",
   "execution_count": null,
   "id": "e0f75e30",
   "metadata": {},
   "outputs": [],
   "source": []
  },
  {
   "cell_type": "code",
   "execution_count": null,
   "id": "19619f57",
   "metadata": {},
   "outputs": [],
   "source": []
  }
 ],
 "metadata": {
  "kernelspec": {
   "display_name": "Julia 1.11.5",
   "language": "julia",
   "name": "julia-1.11"
  },
  "language_info": {
   "file_extension": ".jl",
   "mimetype": "application/julia",
   "name": "julia",
   "version": "1.11.5"
  }
 },
 "nbformat": 4,
 "nbformat_minor": 5
}
