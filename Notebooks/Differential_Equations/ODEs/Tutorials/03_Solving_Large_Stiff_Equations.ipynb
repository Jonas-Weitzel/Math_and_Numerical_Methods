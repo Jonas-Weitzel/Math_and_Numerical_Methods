{
 "cells": [
  {
   "cell_type": "markdown",
   "metadata": {},
   "source": [
    "# Solving Large Stiff Equations"
   ]
  },
  {
   "cell_type": "markdown",
   "metadata": {},
   "source": [
    "## Contents\n",
    "\n",
    "- [Definition of the Brusselator Equation](#definition_of_the_brusselator_equation)\n",
    "- [Choosing Jacobian Types](#choosing_jacobian_types)"
   ]
  },
  {
   "cell_type": "markdown",
   "metadata": {
    "vscode": {
     "languageId": "julia"
    }
   },
   "source": [
    "This tutorial is for getting into the extra features for solving large stiff ordinary\n",
    "differential equations efficiently. Solving stiff ordinary\n",
    "differential equations requires specializing the linear solver on properties of\n",
    "the Jacobian in order to cut down on the $\\mathcal{O}(n^3)$ linear solve and\n",
    "the $\\mathcal{O}(n^2)$ back-solves. Note that these same functions and\n",
    "controls also extend to stiff SDEs, DDEs, DAEs, etc. This tutorial is for large-scale\n",
    "models, such as those derived for semi-discretizations of partial differential\n",
    "equations (PDEs). For example, we will use the stiff Brusselator partial\n",
    "differential equation (BRUSS)."
   ]
  },
  {
   "cell_type": "markdown",
   "metadata": {},
   "source": [
    "## Definition of the Brusselator Equation <a id=\"definition_of_the_brusselator_equation\" />"
   ]
  },
  {
   "cell_type": "markdown",
   "metadata": {},
   "source": [
    "The Brusselator PDE is defined on a unit square periodic domain as follows:\n",
    "\n",
    "```math\n",
    "\\begin{align}\n",
    "\\frac{\\partial U}{\\partial t} &= 1 + U^2V - 4.4U + \\alpha \\nabla^2 U + f(x, y, t),\\\\\n",
    "\\frac{\\partial V}{\\partial t} &= 3.4U - U^2V + \\alpha \\nabla^2 V,\n",
    "\\end{align}\n",
    "```\n",
    "\n",
    "where\n",
    "\n",
    "```math\n",
    "f(x, y, t) = \\begin{cases}\n",
    "5 & \\quad \\text{if } (x-0.3)^2+(y-0.6)^2 ≤ 0.1^2 \\text{ and } t ≥ 1.1\\\\\n",
    "0 & \\quad \\text{else}\n",
    "\\end{cases}, \n",
    "```\n",
    "\n",
    "and\n",
    "\n",
    "$$\\nabla^2 = \\frac{\\partial^2}{\\partial x^2} + \\frac{\\partial^2}{\\partial y^2}$$\n",
    "\n",
    "is the two dimensional Laplacian operator. The above equations are to be solved for a time interval $t \\in [0, 11.5]$ subject to the initial conditions\n",
    "\n",
    "```math\n",
    "\\begin{align}\n",
    "U(x, y, 0) &= 22 \\cdot (y(1-y))^{3/2} \\\\\n",
    "V(x, y, 0) &= 27 \\cdot (x(1-x))^{3/2}\n",
    "\\end{align}\n",
    "```\n",
    "\n",
    "and the periodic boundary conditions\n",
    "\n",
    "```math\n",
    "\\begin{align}\n",
    "U(x+1,y,t) &= U(x,y,t) \\\\\n",
    "V(x,y+1,t) &= V(x,y,t).\n",
    "\\end{align}\n",
    "```"
   ]
  },
  {
   "cell_type": "markdown",
   "metadata": {},
   "source": [
    "To solve this PDE, we will discretize it into a system of ODEs with the finite\n",
    "difference method. We discretize the unit square domain with `N` grid points in each direction.\n",
    "`U[i,j]` and `V[i,j]` then represent the value of the discretized field at a given point in time, i.e."
   ]
  },
  {
   "cell_type": "markdown",
   "metadata": {},
   "source": [
    "```julia\n",
    "U[i,j] = U(i*dx,j*dy)\n",
    "V[i,j] = V(i*dx,j*dy)\n",
    "```"
   ]
  },
  {
   "cell_type": "markdown",
   "metadata": {},
   "source": [
    "where `dx = dy = 1/N`. To implement our ODE system, we collect both `U` and `V` in a single array `u` of size `(N,N,2)` with `u[i,j,1] = U[i,j]` and `u[i,j,2] = V[i,j]`. This approach can be easily generalized to PDEs with larger number of field variables.\n",
    "\n",
    "Using a three-point stencil, the Laplacian operator discretizes into a tridiagonal matrix with elements `[1 -2 1]` and a `1` in the top, bottom, left, and right corners coming from the periodic boundary conditions. The nonlinear terms are implemented pointwise in a straightforward manner.\n",
    "\n",
    "The resulting `ODEProblem` definition is:"
   ]
  },
  {
   "cell_type": "code",
   "execution_count": 9,
   "metadata": {},
   "outputs": [
    {
     "data": {
      "text/plain": [
       "0.0:0.03225806451612903:1.0"
      ]
     },
     "metadata": {},
     "output_type": "display_data"
    }
   ],
   "source": [
    "using DifferentialEquations, LinearAlgebra, SparseArrays\n",
    "\n",
    "const N = 32\n",
    "const xyd_brusselator = range(0, stop = 1, length = N)"
   ]
  },
  {
   "cell_type": "code",
   "execution_count": 10,
   "metadata": {},
   "outputs": [
    {
     "data": {
      "text/plain": [
       "brusselator_f (generic function with 1 method)"
      ]
     },
     "metadata": {},
     "output_type": "display_data"
    }
   ],
   "source": [
    "brusselator_f(x, y, t) = (((x - 0.3)^2 + (y - 0.6)^2) <= 0.1^2) * (t >= 1.1) * 5.0      # Brusselator forcing function"
   ]
  },
  {
   "cell_type": "markdown",
   "metadata": {},
   "source": [
    "> Notice: this is cool. They use a simple `<=` condition in a mathemathical expression to get the value when it evaluates to `True`, and $0$ when it evaluates to `False`."
   ]
  },
  {
   "cell_type": "code",
   "execution_count": 11,
   "metadata": {},
   "outputs": [
    {
     "data": {
      "text/plain": [
       "limit (generic function with 1 method)"
      ]
     },
     "metadata": {},
     "output_type": "display_data"
    }
   ],
   "source": [
    "limit(a, N) = a == N + 1 ? 1 : a == 0 ? N : a                                           # A function to return the indices for priodic BCs"
   ]
  },
  {
   "cell_type": "code",
   "execution_count": 12,
   "metadata": {},
   "outputs": [
    {
     "data": {
      "text/plain": [
       "brusselator_2d_loop (generic function with 1 method)"
      ]
     },
     "metadata": {},
     "output_type": "display_data"
    }
   ],
   "source": [
    "function brusselator_2d_loop(du, u, p, t)\n",
    "    A, B, alpha, dx = p\n",
    "    alpha = alpha / dx^2\n",
    "    @inbounds for I in CartesianIndices((N, N))                                                   # @inbounds eliminates bounds check by compiler (?)\n",
    "        i, j = Tuple(I)\n",
    "        x, y = xyd_brusselator[I[1]], xyd_brusselator[I[2]]\n",
    "        ip1, im1, jp1, jm1 = limit(i + 1, N), limit(i - 1, N), limit(j + 1, N),\n",
    "        limit(j - 1, N)\n",
    "        du[i, j, 1] = alpha * (u[im1, j, 1] + u[ip1, j, 1] + u[i, jp1, 1] + u[i, jm1, 1] -\n",
    "                       4u[i, j, 1]) +\n",
    "                      B + u[i, j, 1]^2 * u[i, j, 2] - (A + 1) * u[i, j, 1] +\n",
    "                      brusselator_f(x, y, t)\n",
    "        du[i, j, 2] = alpha * (u[im1, j, 2] + u[ip1, j, 2] + u[i, jp1, 2] + u[i, jm1, 2] -\n",
    "                       4u[i, j, 2]) +\n",
    "                      A * u[i, j, 1] - u[i, j, 1]^2 * u[i, j, 2]\n",
    "    end\n",
    "end"
   ]
  },
  {
   "cell_type": "code",
   "execution_count": 13,
   "metadata": {},
   "outputs": [
    {
     "data": {
      "text/plain": [
       "\u001b[38;2;86;182;194mODEProblem\u001b[0m with uType \u001b[38;2;86;182;194mArray{Float64, 3}\u001b[0m and tType \u001b[38;2;86;182;194mFloat64\u001b[0m. In-place: \u001b[38;2;86;182;194mtrue\u001b[0m\n",
       "timespan: (0.0, 11.5)\n",
       "u0: 32×32×2 Array{Float64, 3}:\n",
       "[:, :, 1] =\n",
       " 0.0  0.121344  0.326197  0.568534  …  0.568534  0.326197  0.121344  0.0\n",
       " 0.0  0.121344  0.326197  0.568534     0.568534  0.326197  0.121344  0.0\n",
       " 0.0  0.121344  0.326197  0.568534     0.568534  0.326197  0.121344  0.0\n",
       " 0.0  0.121344  0.326197  0.568534     0.568534  0.326197  0.121344  0.0\n",
       " 0.0  0.121344  0.326197  0.568534     0.568534  0.326197  0.121344  0.0\n",
       " 0.0  0.121344  0.326197  0.568534  …  0.568534  0.326197  0.121344  0.0\n",
       " 0.0  0.121344  0.326197  0.568534     0.568534  0.326197  0.121344  0.0\n",
       " 0.0  0.121344  0.326197  0.568534     0.568534  0.326197  0.121344  0.0\n",
       " 0.0  0.121344  0.326197  0.568534     0.568534  0.326197  0.121344  0.0\n",
       " 0.0  0.121344  0.326197  0.568534     0.568534  0.326197  0.121344  0.0\n",
       " ⋮                                  ⋱                      ⋮         \n",
       " 0.0  0.121344  0.326197  0.568534     0.568534  0.326197  0.121344  0.0\n",
       " 0.0  0.121344  0.326197  0.568534     0.568534  0.326197  0.121344  0.0\n",
       " 0.0  0.121344  0.326197  0.568534  …  0.568534  0.326197  0.121344  0.0\n",
       " 0.0  0.121344  0.326197  0.568534     0.568534  0.326197  0.121344  0.0\n",
       " 0.0  0.121344  0.326197  0.568534     0.568534  0.326197  0.121344  0.0\n",
       " 0.0  0.121344  0.326197  0.568534     0.568534  0.326197  0.121344  0.0\n",
       " 0.0  0.121344  0.326197  0.568534     0.568534  0.326197  0.121344  0.0\n",
       " 0.0  0.121344  0.326197  0.568534  …  0.568534  0.326197  0.121344  0.0\n",
       " 0.0  0.121344  0.326197  0.568534     0.568534  0.326197  0.121344  0.0\n",
       "\n",
       "[:, :, 2] =\n",
       " 0.0       0.0       0.0       0.0       …  0.0       0.0       0.0\n",
       " 0.148923  0.148923  0.148923  0.148923     0.148923  0.148923  0.148923\n",
       " 0.400332  0.400332  0.400332  0.400332     0.400332  0.400332  0.400332\n",
       " 0.697746  0.697746  0.697746  0.697746     0.697746  0.697746  0.697746\n",
       " 1.01722   1.01722   1.01722   1.01722      1.01722   1.01722   1.01722\n",
       " 1.34336   1.34336   1.34336   1.34336   …  1.34336   1.34336   1.34336\n",
       " 1.66501   1.66501   1.66501   1.66501      1.66501   1.66501   1.66501\n",
       " 1.97352   1.97352   1.97352   1.97352      1.97352   1.97352   1.97352\n",
       " 2.26207   2.26207   2.26207   2.26207      2.26207   2.26207   2.26207\n",
       " 2.52509   2.52509   2.52509   2.52509      2.52509   2.52509   2.52509\n",
       " ⋮                                       ⋱            ⋮         \n",
       " 2.26207   2.26207   2.26207   2.26207      2.26207   2.26207   2.26207\n",
       " 1.97352   1.97352   1.97352   1.97352      1.97352   1.97352   1.97352\n",
       " 1.66501   1.66501   1.66501   1.66501   …  1.66501   1.66501   1.66501\n",
       " 1.34336   1.34336   1.34336   1.34336      1.34336   1.34336   1.34336\n",
       " 1.01722   1.01722   1.01722   1.01722      1.01722   1.01722   1.01722\n",
       " 0.697746  0.697746  0.697746  0.697746     0.697746  0.697746  0.697746\n",
       " 0.400332  0.400332  0.400332  0.400332     0.400332  0.400332  0.400332\n",
       " 0.148923  0.148923  0.148923  0.148923  …  0.148923  0.148923  0.148923\n",
       " 0.0       0.0       0.0       0.0          0.0       0.0       0.0"
      ]
     },
     "metadata": {},
     "output_type": "display_data"
    }
   ],
   "source": [
    "p = (3.4, 1.0, 10.0, step(xyd_brusselator))\n",
    "\n",
    "function init_brusselator_2d(xyd)\n",
    "    N = length(xyd)\n",
    "    u = zeros(N, N, 2)\n",
    "    for I in CartesianIndices((N, N))\n",
    "        x = xyd[I[1]]\n",
    "        y = xyd[I[2]]\n",
    "        u[I, 1] = 22 * (y * (1 - y))^(3 / 2)\n",
    "        u[I, 2] = 27 * (x * (1 - x))^(3 / 2)\n",
    "    end\n",
    "    u\n",
    "end\n",
    "u0 = init_brusselator_2d(xyd_brusselator)\n",
    "prob_ode_brusselator_2d = ODEProblem(brusselator_2d_loop, u0, (0.0, 11.5), p)"
   ]
  },
  {
   "cell_type": "code",
   "execution_count": 14,
   "metadata": {},
   "outputs": [],
   "source": []
  },
  {
   "cell_type": "code",
   "execution_count": 15,
   "metadata": {},
   "outputs": [
    {
     "data": {
      "text/plain": [
       "\u001b[38;2;86;182;194mODEProblem\u001b[0m with uType \u001b[38;2;86;182;194mArray{Float64, 3}\u001b[0m and tType \u001b[38;2;86;182;194mFloat64\u001b[0m. In-place: \u001b[38;2;86;182;194mtrue\u001b[0m\n",
       "timespan: (0.0, 11.5)\n",
       "u0: 32×32×2 Array{Float64, 3}:\n",
       "[:, :, 1] =\n",
       " 0.0  0.121344  0.326197  0.568534  …  0.568534  0.326197  0.121344  0.0\n",
       " 0.0  0.121344  0.326197  0.568534     0.568534  0.326197  0.121344  0.0\n",
       " 0.0  0.121344  0.326197  0.568534     0.568534  0.326197  0.121344  0.0\n",
       " 0.0  0.121344  0.326197  0.568534     0.568534  0.326197  0.121344  0.0\n",
       " 0.0  0.121344  0.326197  0.568534     0.568534  0.326197  0.121344  0.0\n",
       " 0.0  0.121344  0.326197  0.568534  …  0.568534  0.326197  0.121344  0.0\n",
       " 0.0  0.121344  0.326197  0.568534     0.568534  0.326197  0.121344  0.0\n",
       " 0.0  0.121344  0.326197  0.568534     0.568534  0.326197  0.121344  0.0\n",
       " 0.0  0.121344  0.326197  0.568534     0.568534  0.326197  0.121344  0.0\n",
       " 0.0  0.121344  0.326197  0.568534     0.568534  0.326197  0.121344  0.0\n",
       " ⋮                                  ⋱                      ⋮         \n",
       " 0.0  0.121344  0.326197  0.568534     0.568534  0.326197  0.121344  0.0\n",
       " 0.0  0.121344  0.326197  0.568534     0.568534  0.326197  0.121344  0.0\n",
       " 0.0  0.121344  0.326197  0.568534  …  0.568534  0.326197  0.121344  0.0\n",
       " 0.0  0.121344  0.326197  0.568534     0.568534  0.326197  0.121344  0.0\n",
       " 0.0  0.121344  0.326197  0.568534     0.568534  0.326197  0.121344  0.0\n",
       " 0.0  0.121344  0.326197  0.568534     0.568534  0.326197  0.121344  0.0\n",
       " 0.0  0.121344  0.326197  0.568534     0.568534  0.326197  0.121344  0.0\n",
       " 0.0  0.121344  0.326197  0.568534  …  0.568534  0.326197  0.121344  0.0\n",
       " 0.0  0.121344  0.326197  0.568534     0.568534  0.326197  0.121344  0.0\n",
       "\n",
       "[:, :, 2] =\n",
       " 0.0       0.0       0.0       0.0       …  0.0       0.0       0.0\n",
       " 0.148923  0.148923  0.148923  0.148923     0.148923  0.148923  0.148923\n",
       " 0.400332  0.400332  0.400332  0.400332     0.400332  0.400332  0.400332\n",
       " 0.697746  0.697746  0.697746  0.697746     0.697746  0.697746  0.697746\n",
       " 1.01722   1.01722   1.01722   1.01722      1.01722   1.01722   1.01722\n",
       " 1.34336   1.34336   1.34336   1.34336   …  1.34336   1.34336   1.34336\n",
       " 1.66501   1.66501   1.66501   1.66501      1.66501   1.66501   1.66501\n",
       " 1.97352   1.97352   1.97352   1.97352      1.97352   1.97352   1.97352\n",
       " 2.26207   2.26207   2.26207   2.26207      2.26207   2.26207   2.26207\n",
       " 2.52509   2.52509   2.52509   2.52509      2.52509   2.52509   2.52509\n",
       " ⋮                                       ⋱            ⋮         \n",
       " 2.26207   2.26207   2.26207   2.26207      2.26207   2.26207   2.26207\n",
       " 1.97352   1.97352   1.97352   1.97352      1.97352   1.97352   1.97352\n",
       " 1.66501   1.66501   1.66501   1.66501   …  1.66501   1.66501   1.66501\n",
       " 1.34336   1.34336   1.34336   1.34336      1.34336   1.34336   1.34336\n",
       " 1.01722   1.01722   1.01722   1.01722      1.01722   1.01722   1.01722\n",
       " 0.697746  0.697746  0.697746  0.697746     0.697746  0.697746  0.697746\n",
       " 0.400332  0.400332  0.400332  0.400332     0.400332  0.400332  0.400332\n",
       " 0.148923  0.148923  0.148923  0.148923  …  0.148923  0.148923  0.148923\n",
       " 0.0       0.0       0.0       0.0          0.0       0.0       0.0"
      ]
     },
     "metadata": {},
     "output_type": "display_data"
    }
   ],
   "source": [
    "using DifferentialEquations, LinearAlgebra, SparseArrays\n",
    "\n",
    "const N = 32\n",
    "const xyd_brusselator = range(0, stop = 1, length = N)\n",
    "\n",
    "brusselator_f(x, y, t) = (((x - 0.3)^2 + (y - 0.6)^2) <= 0.1^2) * (t >= 1.1) * 5.0\n",
    "limit(a, N) = a == N + 1 ? 1 : a == 0 ? N : a\n",
    "\n",
    "function brusselator_2d_loop(du, u, p, t)\n",
    "    A, B, alpha, dx = p\n",
    "    alpha = alpha / dx^2\n",
    "    @inbounds for I in CartesianIndices((N, N))\n",
    "        i, j = Tuple(I)\n",
    "        x, y = xyd_brusselator[I[1]], xyd_brusselator[I[2]]\n",
    "        ip1, im1, jp1, jm1 = limit(i + 1, N), limit(i - 1, N), limit(j + 1, N),\n",
    "        limit(j - 1, N)\n",
    "        du[i, j, 1] = alpha * (u[im1, j, 1] + u[ip1, j, 1] + u[i, jp1, 1] + u[i, jm1, 1] -\n",
    "                       4u[i, j, 1]) +\n",
    "                      B + u[i, j, 1]^2 * u[i, j, 2] - (A + 1) * u[i, j, 1] +\n",
    "                      brusselator_f(x, y, t)\n",
    "        du[i, j, 2] = alpha * (u[im1, j, 2] + u[ip1, j, 2] + u[i, jp1, 2] + u[i, jm1, 2] -\n",
    "                       4u[i, j, 2]) +\n",
    "                      A * u[i, j, 1] - u[i, j, 1]^2 * u[i, j, 2]\n",
    "    end\n",
    "end\n",
    "p = (3.4, 1.0, 10.0, step(xyd_brusselator))\n",
    "\n",
    "function init_brusselator_2d(xyd)\n",
    "    N = length(xyd)\n",
    "    u = zeros(N, N, 2)\n",
    "    for I in CartesianIndices((N, N))\n",
    "        x = xyd[I[1]]\n",
    "        y = xyd[I[2]]\n",
    "        u[I, 1] = 22 * (y * (1 - y))^(3 / 2)\n",
    "        u[I, 2] = 27 * (x * (1 - x))^(3 / 2)\n",
    "    end\n",
    "    u\n",
    "end\n",
    "\n",
    "u0 = init_brusselator_2d(xyd_brusselator)\n",
    "prob_ode_brusselator_2d = ODEProblem(brusselator_2d_loop, u0, (0.0, 11.5), p)"
   ]
  },
  {
   "cell_type": "markdown",
   "metadata": {},
   "source": [
    "## Choosing Jacobian Types <a id=\"choosing_jacobian_types\" />"
   ]
  },
  {
   "cell_type": "markdown",
   "metadata": {},
   "source": [
    "When one is using an implicit or semi-implicit differential equation solver,\n",
    "the Jacobian must be built at many iterations, and this can be one of the most\n",
    "expensive steps. There are two pieces that must be optimized in order to reach\n",
    "maximal efficiency when solving stiff equations: the sparsity pattern and the\n",
    "construction of the Jacobian. The construction is filling the matrix\n",
    "`J` with values, while the sparsity pattern is what `J` to use.\n",
    "\n",
    "The sparsity pattern is given by a prototype matrix, the `jac_prototype`, which\n",
    "will be copied to be used as `J`. The default is for `J` to be a `Matrix`,\n",
    "i.e. a dense matrix. However, if you know the sparsity of your problem, then\n",
    "you can pass a different matrix type. For example, a `SparseMatrixCSC` will\n",
    "give a sparse matrix. Other sparse matrix types include:\n",
    "\n",
    "  - Bidiagonal\n",
    "  - Tridiagonal\n",
    "  - SymTridiagonal\n",
    "  - BandedMatrix ([BandedMatrices.jl](https://github.com/JuliaLinearAlgebra/BandedMatrices.jl))\n",
    "  - BlockBandedMatrix ([BlockBandedMatrices.jl](https://github.com/JuliaLinearAlgebra/BlockBandedMatrices.jl))\n",
    "\n",
    "DifferentialEquations.jl will internally use this matrix\n",
    "type, making the factorizations faster by using the specialized forms.\n"
   ]
  },
  {
   "cell_type": "markdown",
   "metadata": {},
   "source": [
    "## Declaring a Sparse Jacobian with Automatic Sparsity Detection"
   ]
  },
  {
   "cell_type": "markdown",
   "metadata": {},
   "source": [
    "Jacobian sparsity is declared by the `jac_prototype` argument in the `ODEFunction`.\n",
    "Note that you should only do this if the sparsity is high, for example, 0.1%\n",
    "of the matrix is non-zeros, otherwise the overhead of sparse matrices can be higher\n",
    "than the gains from sparse differentiation!\n",
    "\n",
    "[ADTypes.jl](https://github.com/SciML/ADTypes.jl) provides a [common interface for automatic sparsity detection](https://sciml.github.io/ADTypes.jl/stable/#Sparsity-detector)\n",
    "via its function `jacobian_sparsity`.\n",
    "This function can be called using sparsity detectors from [SparseConnectivityTracer.jl](https://github.com/adrhill/SparseConnectivityTracer.jl)\n",
    "or [Symbolics.jl](https://github.com/JuliaSymbolics/Symbolics.jl).\n",
    "\n",
    "We can give an example `du` and `u` and call `jacobian_sparsity` on our function with the example arguments,\n",
    "and it will kick out a sparse matrix with our pattern, that we can turn into our `jac_prototype`.\n",
    "\n",
    "Let's try SparseConnectivityTracer's [`TracerSparsityDetector`](https://adrianhill.de/SparseConnectivityTracer.jl/stable/user/api/#SparseConnectivityTracer.TracerSparsityDetector):"
   ]
  },
  {
   "cell_type": "code",
   "execution_count": 16,
   "metadata": {},
   "outputs": [
    {
     "data": {
      "text/plain": [
       "2048×2048 SparseMatrixCSC{Bool, Int64} with 12288 stored entries:\n",
       "⎡⢿⣷⣄⠀⠀⠀⠀⠀⠀⠀⠀⠀⠀⠀⠀⠀⠀⠀⠀⠙⠳⣄⠀⠀⠀⠀⠀⠀⠀⠀⠀⠀⠀⠀⠀⠀⠀⠀⠀⠀⎤\n",
       "⎢⠀⠙⢿⣷⣄⠀⠀⠀⠀⠀⠀⠀⠀⠀⠀⠀⠀⠀⠀⠀⠀⠈⠳⣄⠀⠀⠀⠀⠀⠀⠀⠀⠀⠀⠀⠀⠀⠀⠀⠀⎥\n",
       "⎢⠀⠀⠀⠙⢿⣷⣄⠀⠀⠀⠀⠀⠀⠀⠀⠀⠀⠀⠀⠀⠀⠀⠀⠈⠳⣄⠀⠀⠀⠀⠀⠀⠀⠀⠀⠀⠀⠀⠀⠀⎥\n",
       "⎢⠀⠀⠀⠀⠀⠙⢿⣷⣄⠀⠀⠀⠀⠀⠀⠀⠀⠀⠀⠀⠀⠀⠀⠀⠀⠈⠳⣄⠀⠀⠀⠀⠀⠀⠀⠀⠀⠀⠀⠀⎥\n",
       "⎢⠀⠀⠀⠀⠀⠀⠀⠙⢿⣷⣄⠀⠀⠀⠀⠀⠀⠀⠀⠀⠀⠀⠀⠀⠀⠀⠀⠈⠳⣄⠀⠀⠀⠀⠀⠀⠀⠀⠀⠀⎥\n",
       "⎢⠀⠀⠀⠀⠀⠀⠀⠀⠀⠙⢿⣷⣄⠀⠀⠀⠀⠀⠀⠀⠀⠀⠀⠀⠀⠀⠀⠀⠀⠈⠳⣄⠀⠀⠀⠀⠀⠀⠀⠀⎥\n",
       "⎢⠀⠀⠀⠀⠀⠀⠀⠀⠀⠀⠀⠙⢿⣷⣄⠀⠀⠀⠀⠀⠀⠀⠀⠀⠀⠀⠀⠀⠀⠀⠀⠈⠳⣄⠀⠀⠀⠀⠀⠀⎥\n",
       "⎢⠀⠀⠀⠀⠀⠀⠀⠀⠀⠀⠀⠀⠀⠙⢿⣷⣄⠀⠀⠀⠀⠀⠀⠀⠀⠀⠀⠀⠀⠀⠀⠀⠀⠈⠳⣄⠀⠀⠀⠀⎥\n",
       "⎢⠀⠀⠀⠀⠀⠀⠀⠀⠀⠀⠀⠀⠀⠀⠀⠙⢿⣷⣄⠀⠀⠀⠀⠀⠀⠀⠀⠀⠀⠀⠀⠀⠀⠀⠀⠈⠳⣄⠀⠀⎥\n",
       "⎢⣄⠀⠀⠀⠀⠀⠀⠀⠀⠀⠀⠀⠀⠀⠀⠀⠀⠙⢿⣷⠀⠀⠀⠀⠀⠀⠀⠀⠀⠀⠀⠀⠀⠀⠀⠀⠀⠈⠳⣄⎥\n",
       "⎢⠙⢦⡀⠀⠀⠀⠀⠀⠀⠀⠀⠀⠀⠀⠀⠀⠀⠀⠀⠀⢿⣷⣄⠀⠀⠀⠀⠀⠀⠀⠀⠀⠀⠀⠀⠀⠀⠀⠀⠙⎥\n",
       "⎢⠀⠀⠙⢦⡀⠀⠀⠀⠀⠀⠀⠀⠀⠀⠀⠀⠀⠀⠀⠀⠀⠙⢿⣷⣄⠀⠀⠀⠀⠀⠀⠀⠀⠀⠀⠀⠀⠀⠀⠀⎥\n",
       "⎢⠀⠀⠀⠀⠙⢦⡀⠀⠀⠀⠀⠀⠀⠀⠀⠀⠀⠀⠀⠀⠀⠀⠀⠙⢿⣷⣄⠀⠀⠀⠀⠀⠀⠀⠀⠀⠀⠀⠀⠀⎥\n",
       "⎢⠀⠀⠀⠀⠀⠀⠙⢦⡀⠀⠀⠀⠀⠀⠀⠀⠀⠀⠀⠀⠀⠀⠀⠀⠀⠙⢿⣷⣄⠀⠀⠀⠀⠀⠀⠀⠀⠀⠀⠀⎥\n",
       "⎢⠀⠀⠀⠀⠀⠀⠀⠀⠙⢦⡀⠀⠀⠀⠀⠀⠀⠀⠀⠀⠀⠀⠀⠀⠀⠀⠀⠙⢿⣷⣄⠀⠀⠀⠀⠀⠀⠀⠀⠀⎥\n",
       "⎢⠀⠀⠀⠀⠀⠀⠀⠀⠀⠀⠙⢦⡀⠀⠀⠀⠀⠀⠀⠀⠀⠀⠀⠀⠀⠀⠀⠀⠀⠙⢿⣷⣄⠀⠀⠀⠀⠀⠀⠀⎥\n",
       "⎢⠀⠀⠀⠀⠀⠀⠀⠀⠀⠀⠀⠀⠙⢦⡀⠀⠀⠀⠀⠀⠀⠀⠀⠀⠀⠀⠀⠀⠀⠀⠀⠙⢿⣷⣄⠀⠀⠀⠀⠀⎥\n",
       "⎢⠀⠀⠀⠀⠀⠀⠀⠀⠀⠀⠀⠀⠀⠀⠙⢦⡀⠀⠀⠀⠀⠀⠀⠀⠀⠀⠀⠀⠀⠀⠀⠀⠀⠙⢿⣷⣄⠀⠀⠀⎥\n",
       "⎢⠀⠀⠀⠀⠀⠀⠀⠀⠀⠀⠀⠀⠀⠀⠀⠀⠙⢦⡀⠀⠀⠀⠀⠀⠀⠀⠀⠀⠀⠀⠀⠀⠀⠀⠀⠙⢿⣷⣄⠀⎥\n",
       "⎣⠀⠀⠀⠀⠀⠀⠀⠀⠀⠀⠀⠀⠀⠀⠀⠀⠀⠀⠙⢦⣄⠀⠀⠀⠀⠀⠀⠀⠀⠀⠀⠀⠀⠀⠀⠀⠀⠙⢿⣷⎦"
      ]
     },
     "metadata": {},
     "output_type": "display_data"
    }
   ],
   "source": [
    "using SparseConnectivityTracer, ADTypes\n",
    "\n",
    "detector = TracerSparsityDetector()\n",
    "du0 = copy(u0)\n",
    "jac_sparsity = ADTypes.jacobian_sparsity(\n",
    "    (du, u) -> brusselator_2d_loop(du, u, p, 0.0), du0, u0, detector)"
   ]
  },
  {
   "cell_type": "markdown",
   "metadata": {},
   "source": [
    "> NOTE: there is a problem when trying to pass the `u` and/or `du` values to another function in the ODE definition. It expects `array(float)` but gets the `SparsityDetector` thing. "
   ]
  },
  {
   "cell_type": "markdown",
   "metadata": {},
   "source": [
    "Using a different backend for sparsity detection just requires swapping out the detector,\n",
    "e.g. for Symbolics' [`SymbolicsSparsityDetector`](https://docs.sciml.ai/Symbolics/stable/manual/sparsity_detection/#Symbolics.SymbolicsSparsityDetector).\n",
    "\n",
    "Notice that Julia gives a nice print out of the sparsity pattern.\n",
    "That's neat, and would be tedious to build by hand!\n",
    "Now we just pass it to the `ODEFunction` like as before:"
   ]
  },
  {
   "cell_type": "code",
   "execution_count": 17,
   "metadata": {},
   "outputs": [
    {
     "data": {
      "text/plain": [
       "(::ODEFunction{true, SciMLBase.FullSpecialize, typeof(brusselator_2d_loop), UniformScaling{Bool}, Nothing, Nothing, Nothing, Nothing, Nothing, SparseMatrixCSC{Float64, Int64}, SparseMatrixCSC{Float64, Int64}, Nothing, Nothing, Nothing, Nothing, typeof(SciMLBase.DEFAULT_OBSERVED), Nothing, Nothing, Nothing, Nothing}) (generic function with 1 method)"
      ]
     },
     "metadata": {},
     "output_type": "display_data"
    }
   ],
   "source": [
    "f = ODEFunction(brusselator_2d_loop; jac_prototype = float.(jac_sparsity))"
   ]
  },
  {
   "cell_type": "code",
   "execution_count": 18,
   "metadata": {},
   "outputs": [
    {
     "data": {
      "text/plain": [
       "\u001b[38;2;86;182;194mODEProblem\u001b[0m with uType \u001b[38;2;86;182;194mArray{Float64, 3}\u001b[0m and tType \u001b[38;2;86;182;194mFloat64\u001b[0m. In-place: \u001b[38;2;86;182;194mtrue\u001b[0m\n",
       "timespan: (0.0, 11.5)\n",
       "u0: 32×32×2 Array{Float64, 3}:\n",
       "[:, :, 1] =\n",
       " 0.0  0.121344  0.326197  0.568534  …  0.568534  0.326197  0.121344  0.0\n",
       " 0.0  0.121344  0.326197  0.568534     0.568534  0.326197  0.121344  0.0\n",
       " 0.0  0.121344  0.326197  0.568534     0.568534  0.326197  0.121344  0.0\n",
       " 0.0  0.121344  0.326197  0.568534     0.568534  0.326197  0.121344  0.0\n",
       " 0.0  0.121344  0.326197  0.568534     0.568534  0.326197  0.121344  0.0\n",
       " 0.0  0.121344  0.326197  0.568534  …  0.568534  0.326197  0.121344  0.0\n",
       " 0.0  0.121344  0.326197  0.568534     0.568534  0.326197  0.121344  0.0\n",
       " 0.0  0.121344  0.326197  0.568534     0.568534  0.326197  0.121344  0.0\n",
       " 0.0  0.121344  0.326197  0.568534     0.568534  0.326197  0.121344  0.0\n",
       " 0.0  0.121344  0.326197  0.568534     0.568534  0.326197  0.121344  0.0\n",
       " ⋮                                  ⋱                      ⋮         \n",
       " 0.0  0.121344  0.326197  0.568534     0.568534  0.326197  0.121344  0.0\n",
       " 0.0  0.121344  0.326197  0.568534     0.568534  0.326197  0.121344  0.0\n",
       " 0.0  0.121344  0.326197  0.568534  …  0.568534  0.326197  0.121344  0.0\n",
       " 0.0  0.121344  0.326197  0.568534     0.568534  0.326197  0.121344  0.0\n",
       " 0.0  0.121344  0.326197  0.568534     0.568534  0.326197  0.121344  0.0\n",
       " 0.0  0.121344  0.326197  0.568534     0.568534  0.326197  0.121344  0.0\n",
       " 0.0  0.121344  0.326197  0.568534     0.568534  0.326197  0.121344  0.0\n",
       " 0.0  0.121344  0.326197  0.568534  …  0.568534  0.326197  0.121344  0.0\n",
       " 0.0  0.121344  0.326197  0.568534     0.568534  0.326197  0.121344  0.0\n",
       "\n",
       "[:, :, 2] =\n",
       " 0.0       0.0       0.0       0.0       …  0.0       0.0       0.0\n",
       " 0.148923  0.148923  0.148923  0.148923     0.148923  0.148923  0.148923\n",
       " 0.400332  0.400332  0.400332  0.400332     0.400332  0.400332  0.400332\n",
       " 0.697746  0.697746  0.697746  0.697746     0.697746  0.697746  0.697746\n",
       " 1.01722   1.01722   1.01722   1.01722      1.01722   1.01722   1.01722\n",
       " 1.34336   1.34336   1.34336   1.34336   …  1.34336   1.34336   1.34336\n",
       " 1.66501   1.66501   1.66501   1.66501      1.66501   1.66501   1.66501\n",
       " 1.97352   1.97352   1.97352   1.97352      1.97352   1.97352   1.97352\n",
       " 2.26207   2.26207   2.26207   2.26207      2.26207   2.26207   2.26207\n",
       " 2.52509   2.52509   2.52509   2.52509      2.52509   2.52509   2.52509\n",
       " ⋮                                       ⋱            ⋮         \n",
       " 2.26207   2.26207   2.26207   2.26207      2.26207   2.26207   2.26207\n",
       " 1.97352   1.97352   1.97352   1.97352      1.97352   1.97352   1.97352\n",
       " 1.66501   1.66501   1.66501   1.66501   …  1.66501   1.66501   1.66501\n",
       " 1.34336   1.34336   1.34336   1.34336      1.34336   1.34336   1.34336\n",
       " 1.01722   1.01722   1.01722   1.01722      1.01722   1.01722   1.01722\n",
       " 0.697746  0.697746  0.697746  0.697746     0.697746  0.697746  0.697746\n",
       " 0.400332  0.400332  0.400332  0.400332     0.400332  0.400332  0.400332\n",
       " 0.148923  0.148923  0.148923  0.148923  …  0.148923  0.148923  0.148923\n",
       " 0.0       0.0       0.0       0.0          0.0       0.0       0.0"
      ]
     },
     "metadata": {},
     "output_type": "display_data"
    }
   ],
   "source": [
    "prob_ode_brusselator_2d_sparse = ODEProblem(f, u0, (0.0, 11.5), p)"
   ]
  },
  {
   "cell_type": "code",
   "execution_count": 19,
   "metadata": {},
   "outputs": [
    {
     "name": "stdout",
     "output_type": "stream",
     "text": [
      "  8.998 s (7672 allocations: 97.63 MiB)\n",
      "  776.673 ms (29210 allocations: 245.03 MiB)\n",
      "  538.890 ms (27748 allocations: 13.23 MiB)\n"
     ]
    }
   ],
   "source": [
    "using BenchmarkTools # for @btime\n",
    "@btime solve(prob_ode_brusselator_2d, TRBDF2(), save_everystep = false);\n",
    "@btime solve(prob_ode_brusselator_2d_sparse, TRBDF2(), save_everystep = false);\n",
    "@btime solve(prob_ode_brusselator_2d_sparse, KenCarp47(linsolve = KLUFactorization()),\n",
    "    save_everystep = false);"
   ]
  },
  {
   "cell_type": "markdown",
   "metadata": {},
   "source": [
    "## Using Jacobian-Free Newton-Krylov <a id=\"using_jacobian_free_newton_krylov\" />"
   ]
  },
  {
   "cell_type": "markdown",
   "metadata": {},
   "source": [
    "A completely different way to optimize the linear solvers for large sparse matrices is to use a Krylov subspace method. This requires choosing a linear solver for changing to a Krylov method. To swap the linear solver out, we use the `linsolve` command and choose the GMRES linear solver."
   ]
  },
  {
   "cell_type": "code",
   "execution_count": 20,
   "metadata": {},
   "outputs": [
    {
     "name": "stdout",
     "output_type": "stream",
     "text": [
      "  1.353 s (241617 allocations: 33.56 MiB)\n"
     ]
    }
   ],
   "source": [
    "@btime solve(prob_ode_brusselator_2d, KenCarp47(linsolve = KrylovJL_GMRES()),\n",
    "    save_everystep = false);"
   ]
  },
  {
   "cell_type": "markdown",
   "metadata": {},
   "source": [
    "Notice that this acceleration does not require the definition of a sparsity pattern, and can thus be an easier way to scale for large problems. For more information on linear solver choices, see the [linear solver documentation](#https://docs.sciml.ai/DiffEqDocs/stable/features/linear_nonlinear/#linear_nonlinear). linsolve choices are any valid [LinearSolve.jl](#https://linearsolve.sciml.ai/dev/) solver."
   ]
  },
  {
   "cell_type": "markdown",
   "metadata": {},
   "source": [
    "> Switching to a Krylov linear solver will automatically change the ODE solver into Jacobian-free mode, dramatically reducing the memory required. This can be overridden by adding `concrete_jac=true` to the algorithm."
   ]
  },
  {
   "cell_type": "markdown",
   "metadata": {},
   "source": [
    "### Adding a Preconditioner"
   ]
  },
  {
   "cell_type": "markdown",
   "metadata": {},
   "source": [
    "Any [LinearSolve.jl-compatible preconditioner](#https://docs.sciml.ai/LinearSolve/stable/basics/Preconditioners/) can be used as a preconditioner in the linear solver interface. To define preconditioners, one must define a precs function in compatible stiff ODE solvers which returns the left and right preconditioners, matrices which approximate the inverse of W = I - gamma*J used in the solution of the ODE. An example of this with using [IncompleteLU.jl](#https://github.com/haampie/IncompleteLU.jl) is as follows:"
   ]
  },
  {
   "cell_type": "code",
   "execution_count": null,
   "metadata": {},
   "outputs": [],
   "source": []
  },
  {
   "cell_type": "code",
   "execution_count": null,
   "metadata": {},
   "outputs": [],
   "source": []
  }
 ],
 "metadata": {
  "kernelspec": {
   "display_name": "Julia 1.11.2",
   "language": "julia",
   "name": "julia-1.11"
  },
  "language_info": {
   "file_extension": ".jl",
   "mimetype": "application/julia",
   "name": "julia",
   "version": "1.11.2"
  }
 },
 "nbformat": 4,
 "nbformat_minor": 2
}
