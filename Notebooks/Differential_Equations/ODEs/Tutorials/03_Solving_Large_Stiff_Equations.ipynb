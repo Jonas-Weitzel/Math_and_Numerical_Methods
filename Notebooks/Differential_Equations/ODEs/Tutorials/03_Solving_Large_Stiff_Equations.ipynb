{
 "cells": [
  {
   "cell_type": "markdown",
   "metadata": {},
   "source": [
    "# Solving Large Stiff Equations"
   ]
  },
  {
   "cell_type": "markdown",
   "metadata": {},
   "source": [
    "## Contents\n",
    "\n",
    "- [Definition of the Brusselator Equation](#definition_of_the_brusselator_equation)\n",
    "- [Choosing Jacobian Types](#choosing_jacobian_types)"
   ]
  },
  {
   "cell_type": "markdown",
   "metadata": {
    "vscode": {
     "languageId": "julia"
    }
   },
   "source": [
    "This tutorial is for getting into the extra features for solving large stiff ordinary\n",
    "differential equations efficiently. Solving stiff ordinary\n",
    "differential equations requires specializing the linear solver on properties of\n",
    "the Jacobian in order to cut down on the $\\mathcal{O}(n^3)$ linear solve and\n",
    "the $\\mathcal{O}(n^2)$ back-solves. Note that these same functions and\n",
    "controls also extend to stiff SDEs, DDEs, DAEs, etc. This tutorial is for large-scale\n",
    "models, such as those derived for semi-discretizations of partial differential\n",
    "equations (PDEs). For example, we will use the stiff Brusselator partial\n",
    "differential equation (BRUSS)."
   ]
  },
  {
   "cell_type": "markdown",
   "metadata": {},
   "source": [
    "## Definition of the Brusselator Equation <a id=\"definition_of_the_brusselator_equation\" />"
   ]
  },
  {
   "cell_type": "markdown",
   "metadata": {},
   "source": [
    "The Brusselator PDE is defined on a unit square periodic domain as follows:\n",
    "\n",
    "```math\n",
    "\\begin{align}\n",
    "\\frac{\\partial U}{\\partial t} &= 1 + U^2V - 4.4U + \\alpha \\nabla^2 U + f(x, y, t),\\\\\n",
    "\\frac{\\partial V}{\\partial t} &= 3.4U - U^2V + \\alpha \\nabla^2 V,\n",
    "\\end{align}\n",
    "```\n",
    "\n",
    "where\n",
    "\n",
    "```math\n",
    "f(x, y, t) = \\begin{cases}\n",
    "5 & \\quad \\text{if } (x-0.3)^2+(y-0.6)^2 ≤ 0.1^2 \\text{ and } t ≥ 1.1\\\\\n",
    "0 & \\quad \\text{else}\n",
    "\\end{cases}, \n",
    "```\n",
    "\n",
    "and\n",
    "\n",
    "$$\\nabla^2 = \\frac{\\partial^2}{\\partial x^2} + \\frac{\\partial^2}{\\partial y^2}$$\n",
    "\n",
    "is the two dimensional Laplacian operator. The above equations are to be solved for a time interval $t \\in [0, 11.5]$ subject to the initial conditions\n",
    "\n",
    "```math\n",
    "\\begin{align}\n",
    "U(x, y, 0) &= 22 \\cdot (y(1-y))^{3/2} \\\\\n",
    "V(x, y, 0) &= 27 \\cdot (x(1-x))^{3/2}\n",
    "\\end{align}\n",
    "```\n",
    "\n",
    "and the periodic boundary conditions\n",
    "\n",
    "```math\n",
    "\\begin{align}\n",
    "U(x+1,y,t) &= U(x,y,t) \\\\\n",
    "V(x,y+1,t) &= V(x,y,t).\n",
    "\\end{align}\n",
    "```"
   ]
  },
  {
   "cell_type": "markdown",
   "metadata": {},
   "source": [
    "To solve this PDE, we will discretize it into a system of ODEs with the finite\n",
    "difference method. We discretize the unit square domain with `N` grid points in each direction.\n",
    "`U[i,j]` and `V[i,j]` then represent the value of the discretized field at a given point in time, i.e."
   ]
  },
  {
   "cell_type": "markdown",
   "metadata": {},
   "source": [
    "```julia\n",
    "U[i,j] = U(i*dx,j*dy)\n",
    "V[i,j] = V(i*dx,j*dy)\n",
    "```"
   ]
  },
  {
   "cell_type": "markdown",
   "metadata": {},
   "source": [
    "where `dx = dy = 1/N`. To implement our ODE system, we collect both `U` and `V` in a single array `u` of size `(N,N,2)` with `u[i,j,1] = U[i,j]` and `u[i,j,2] = V[i,j]`. This approach can be easily generalized to PDEs with larger number of field variables.\n",
    "\n",
    "Using a three-point stencil, the Laplacian operator discretizes into a tridiagonal matrix with elements `[1 -2 1]` and a `1` in the top, bottom, left, and right corners coming from the periodic boundary conditions. The nonlinear terms are implemented pointwise in a straightforward manner.\n",
    "\n",
    "The resulting `ODEProblem` definition is:"
   ]
  },
  {
   "cell_type": "code",
   "execution_count": 39,
   "metadata": {},
   "outputs": [],
   "source": [
    "using LinearAlgebra\n",
    "\n",
    "Nx = Ny = 99\n",
    "\n",
    "dx = 1/(Nx+1)\n",
    "dy = 1/(Ny+1)\n",
    "x_vec = dx:dx:1-dx\n",
    "y_vec = dy:dy:1-dy\n",
    "\n",
    "u = zeros(Nx, Ny, 2)\n",
    "Ax = Tridiagonal([1.0 for i in 1:(Nx - 1)], [-2.0 for i in 1:Nx], [1.0 for i in 1:(Nx - 1)])\n",
    "Ay = copy(Ax);\n",
    "\n",
    "function f(x,y,t)\n",
    "    if (x-0.3)^2 + (y-0.6)^2 <= 0.1^2 && t >= 1.1\n",
    "        5\n",
    "    else\n",
    "        0\n",
    "    end\n",
    "end\n",
    "\n",
    "# Initial conditions\n",
    "u0 = copy(u)\n",
    "grid = copy(u)\n",
    "for i in 1:Nx, j in 1:Ny\n",
    "    u0[i,j,1] = 22 * (y_vec[i]*(1-y_vec[i]))^(3/2)\n",
    "    u0[i,j,2] = 27 * (x_vec[i]*(1-x_vec[i]))^(3/2)\n",
    "    grid[i,j,1] = x_vec[i]\n",
    "    grid[i,j,2] = y_vec[j]\n",
    "end\n",
    "\n",
    "# Boundary conditions"
   ]
  },
  {
   "cell_type": "code",
   "execution_count": 40,
   "metadata": {},
   "outputs": [
    {
     "data": {
      "text/plain": [
       "Bruss_ODE (generic function with 1 method)"
      ]
     },
     "metadata": {},
     "output_type": "display_data"
    }
   ],
   "source": [
    "function Bruss_ODE(du, u, p, t)\n",
    "\n",
    "    Ax, Ay, grid, α, f = p\n",
    "\n",
    "    U = u[:,:,1]\n",
    "    V = u[:,:,1]\n",
    "    DU = Ax*U\n",
    "    DV = Ay*V\n",
    "\n",
    "    du[:,:,1] = @. 1 + U^2*V - 4.4*U + α*DU + f.(grid[:,:,1], grid[:,:,2], t)\n",
    "    du[:,:,2] = @. 3.4*U - U^2*V + α*DV\n",
    "\n",
    "end"
   ]
  },
  {
   "cell_type": "code",
   "execution_count": 41,
   "metadata": {},
   "outputs": [
    {
     "data": {
      "text/plain": [
       "Bruss_ODE (generic function with 1 method)"
      ]
     },
     "metadata": {},
     "output_type": "display_data"
    }
   ],
   "source": [
    "function Bruss_ODE(du, u, p, t)\n",
    "\n",
    "    XY, α, f = p\n",
    "\n",
    "    U = u[:,:,1]\n",
    "    V = u[:,:,1]\n",
    "\n",
    "    for i in 2:Nx-1\n",
    "        for j in 2:Ny-1\n",
    "            du[:,:,1] = 1 + U[i,j]^2 * V[i,j] - 4.4*U[i,j] + α * (U[i-1,j] + U[i+1,j] + U[i,j-1] + U[i,j+1] - 4U[i,j]) + f.(XY[i,j,1], XY[i,j,2], t)\n",
    "            du[:,:,2] = 3.4*U[i,j] - U[i,j]^2*V[i,j] + α * (V[i-1,j] + V[i+1,j] + V[i,j-1] + V[i,j+1] - 4V[i,j])\n",
    "        end\n",
    "    end\n",
    "\n",
    "    j = 1\n",
    "    for i in 2:Nx-1\n",
    "        du[i,j,1] = 1 + U[i,j]^2 * V[i,j] - 4.4*U[i,j] + α * (U[i-1,j] + U[i+1,j] + U[i,end] + U[i,j+1] - 4U[i,j]) + f.(XY[i,j,1], XY[i,j,2], t)\n",
    "        du[i,j,2] = 3.4*U[i,j] - U[i,j]^2*V[i,j] + α * (V[i-1,j] + V[i+1,j] + V[i,end] + V[i,j+1] - 4V[i,j])\n",
    "    end\n",
    "    i = 1\n",
    "    for j in 2:Ny-1\n",
    "        du[i,j,1] = 1 + U[i,j]^2 * V[i,j] - 4.4*U[i,j] + α * (U[end,j] + U[i+1,j] + U[i,j-1] + U[i,j+1] - 4U[i,j]) + f.(XY[i,j,1], XY[i,j,2], t)\n",
    "        du[i,j,2] = 3.4*U[i,j] - U[i,j]^2*V[i,j] + α * (V[end,j] + V[i+1,j] + V[i,j-1] + V[i,j+1] - 4V[i,j])\n",
    "    end\n",
    "    j =\n",
    "    for i in 2:Nx-1\n",
    "        du[i,j,1] = 1 + U[i,j]^2 * V[i,j] - 4.4*U[i,j] + α * (U[i-1,j] + U[i+1,j] + U[i,end] + U[i,j+1] - 4U[i,j]) + f.(XY[i,j,1], XY[i,j,2], t)\n",
    "        du[i,j,2] = 3.4*U[i,j] - U[i,j]^2*V[i,j] + α * (V[i-1,j] + V[i+1,j] + V[i,end] + V[i,j+1] - 4V[i,j])\n",
    "    end\n",
    "    i = 1\n",
    "    for j in 2:Ny-1\n",
    "        du[i,j,1] = 1 + U[i,j]^2 * V[i,j] - 4.4*U[i,j] + α * (U[end,j] + U[i+1,j] + U[i,j-1] + U[i,j+1] - 4U[i,j]) + f.(XY[i,j,1], XY[i,j,2], t)\n",
    "        du[i,j,2] = 3.4*U[i,j] - U[i,j]^2*V[i,j] + α * (V[end,j] + V[i+1,j] + V[i,j-1] + V[i,j+1] - 4V[i,j])\n",
    "    end\n",
    "\n",
    "end"
   ]
  },
  {
   "cell_type": "code",
   "execution_count": 42,
   "metadata": {},
   "outputs": [
    {
     "data": {
      "text/plain": [
       "0.0:0.03225806451612903:1.0"
      ]
     },
     "metadata": {},
     "output_type": "display_data"
    }
   ],
   "source": [
    "using DifferentialEquations, LinearAlgebra, SparseArrays\n",
    "\n",
    "const N = 32\n",
    "const xyd_brusselator = range(0, stop = 1, length = N)"
   ]
  },
  {
   "cell_type": "code",
   "execution_count": 43,
   "metadata": {},
   "outputs": [
    {
     "data": {
      "text/plain": [
       "brusselator_f (generic function with 1 method)"
      ]
     },
     "metadata": {},
     "output_type": "display_data"
    }
   ],
   "source": [
    "brusselator_f(x, y, t) = (((x - 0.3)^2 + (y - 0.6)^2) <= 0.1^2) * (t >= 1.1) * 5.0"
   ]
  },
  {
   "cell_type": "markdown",
   "metadata": {},
   "source": [
    "> Notice: this is cool. They use a simple `<=` condition in a mathemathical expression to get the value when it evaluates to `True`, and $0$ when it evaluates to `False`."
   ]
  },
  {
   "cell_type": "code",
   "execution_count": null,
   "metadata": {},
   "outputs": [],
   "source": [
    "limit(a, N) = a == N + 1 ? 1 : a == 0 ? N : a"
   ]
  },
  {
   "cell_type": "code",
   "execution_count": null,
   "metadata": {},
   "outputs": [],
   "source": [
    "function brusselator_2d_loop(du, u, p, t)\n",
    "    A, B, alpha, dx = p\n",
    "    alpha = alpha / dx^2\n",
    "    @inbounds for I in CartesianIndices((N, N))\n",
    "        i, j = Tuple(I)\n",
    "        x, y = xyd_brusselator[I[1]], xyd_brusselator[I[2]]\n",
    "        ip1, im1, jp1, jm1 = limit(i + 1, N), limit(i - 1, N), limit(j + 1, N),\n",
    "        limit(j - 1, N)\n",
    "        du[i, j, 1] = alpha * (u[im1, j, 1] + u[ip1, j, 1] + u[i, jp1, 1] + u[i, jm1, 1] -\n",
    "                       4u[i, j, 1]) +\n",
    "                      B + u[i, j, 1]^2 * u[i, j, 2] - (A + 1) * u[i, j, 1] +\n",
    "                      brusselator_f(x, y, t)\n",
    "        du[i, j, 2] = alpha * (u[im1, j, 2] + u[ip1, j, 2] + u[i, jp1, 2] + u[i, jm1, 2] -\n",
    "                       4u[i, j, 2]) +\n",
    "                      A * u[i, j, 1] - u[i, j, 1]^2 * u[i, j, 2]\n",
    "    end\n",
    "end"
   ]
  },
  {
   "cell_type": "code",
   "execution_count": null,
   "metadata": {},
   "outputs": [],
   "source": [
    "p = (3.4, 1.0, 10.0, step(xyd_brusselator))\n",
    "\n",
    "function init_brusselator_2d(xyd)\n",
    "    N = length(xyd)\n",
    "    u = zeros(N, N, 2)\n",
    "    for I in CartesianIndices((N, N))\n",
    "        x = xyd[I[1]]\n",
    "        y = xyd[I[2]]\n",
    "        u[I, 1] = 22 * (y * (1 - y))^(3 / 2)\n",
    "        u[I, 2] = 27 * (x * (1 - x))^(3 / 2)\n",
    "    end\n",
    "    u\n",
    "end\n",
    "u0 = init_brusselator_2d(xyd_brusselator)\n",
    "prob_ode_brusselator_2d = ODEProblem(brusselator_2d_loop, u0, (0.0, 11.5), p)"
   ]
  },
  {
   "cell_type": "code",
   "execution_count": null,
   "metadata": {},
   "outputs": [],
   "source": []
  },
  {
   "cell_type": "code",
   "execution_count": null,
   "metadata": {},
   "outputs": [],
   "source": [
    "using DifferentialEquations, LinearAlgebra, SparseArrays\n",
    "\n",
    "const N = 32\n",
    "const xyd_brusselator = range(0, stop = 1, length = N)\n",
    "\n",
    "brusselator_f(x, y, t) = (((x - 0.3)^2 + (y - 0.6)^2) <= 0.1^2) * (t >= 1.1) * 5.0\n",
    "limit(a, N) = a == N + 1 ? 1 : a == 0 ? N : a\n",
    "\n",
    "function brusselator_2d_loop(du, u, p, t)\n",
    "    A, B, alpha, dx = p\n",
    "    alpha = alpha / dx^2\n",
    "    @inbounds for I in CartesianIndices((N, N))\n",
    "        i, j = Tuple(I)\n",
    "        x, y = xyd_brusselator[I[1]], xyd_brusselator[I[2]]\n",
    "        ip1, im1, jp1, jm1 = limit(i + 1, N), limit(i - 1, N), limit(j + 1, N),\n",
    "        limit(j - 1, N)\n",
    "        du[i, j, 1] = alpha * (u[im1, j, 1] + u[ip1, j, 1] + u[i, jp1, 1] + u[i, jm1, 1] -\n",
    "                       4u[i, j, 1]) +\n",
    "                      B + u[i, j, 1]^2 * u[i, j, 2] - (A + 1) * u[i, j, 1] +\n",
    "                      brusselator_f(x, y, t)\n",
    "        du[i, j, 2] = alpha * (u[im1, j, 2] + u[ip1, j, 2] + u[i, jp1, 2] + u[i, jm1, 2] -\n",
    "                       4u[i, j, 2]) +\n",
    "                      A * u[i, j, 1] - u[i, j, 1]^2 * u[i, j, 2]\n",
    "    end\n",
    "end\n",
    "p = (3.4, 1.0, 10.0, step(xyd_brusselator))\n",
    "\n",
    "function init_brusselator_2d(xyd)\n",
    "    N = length(xyd)\n",
    "    u = zeros(N, N, 2)\n",
    "    for I in CartesianIndices((N, N))\n",
    "        x = xyd[I[1]]\n",
    "        y = xyd[I[2]]\n",
    "        u[I, 1] = 22 * (y * (1 - y))^(3 / 2)\n",
    "        u[I, 2] = 27 * (x * (1 - x))^(3 / 2)\n",
    "    end\n",
    "    u\n",
    "end\n",
    "\n",
    "u0 = init_brusselator_2d(xyd_brusselator)\n",
    "prob_ode_brusselator_2d = ODEProblem(brusselator_2d_loop, u0, (0.0, 11.5), p)"
   ]
  },
  {
   "cell_type": "markdown",
   "metadata": {},
   "source": [
    "## Choosing Jacobian Types <a id=\"choosing_jacobian_types\" />"
   ]
  },
  {
   "cell_type": "markdown",
   "metadata": {},
   "source": [
    "When one is using an implicit or semi-implicit differential equation solver,\n",
    "the Jacobian must be built at many iterations, and this can be one of the most\n",
    "expensive steps. There are two pieces that must be optimized in order to reach\n",
    "maximal efficiency when solving stiff equations: the sparsity pattern and the\n",
    "construction of the Jacobian. The construction is filling the matrix\n",
    "`J` with values, while the sparsity pattern is what `J` to use.\n",
    "\n",
    "The sparsity pattern is given by a prototype matrix, the `jac_prototype`, which\n",
    "will be copied to be used as `J`. The default is for `J` to be a `Matrix`,\n",
    "i.e. a dense matrix. However, if you know the sparsity of your problem, then\n",
    "you can pass a different matrix type. For example, a `SparseMatrixCSC` will\n",
    "give a sparse matrix. Other sparse matrix types include:\n",
    "\n",
    "  - Bidiagonal\n",
    "  - Tridiagonal\n",
    "  - SymTridiagonal\n",
    "  - BandedMatrix ([BandedMatrices.jl](https://github.com/JuliaLinearAlgebra/BandedMatrices.jl))\n",
    "  - BlockBandedMatrix ([BlockBandedMatrices.jl](https://github.com/JuliaLinearAlgebra/BlockBandedMatrices.jl))\n",
    "\n",
    "DifferentialEquations.jl will internally use this matrix\n",
    "type, making the factorizations faster by using the specialized forms.\n"
   ]
  },
  {
   "cell_type": "markdown",
   "metadata": {},
   "source": [
    "## Declaring a Sparse Jacobian with Automatic Sparsity Detection"
   ]
  },
  {
   "cell_type": "markdown",
   "metadata": {},
   "source": [
    "Jacobian sparsity is declared by the `jac_prototype` argument in the `ODEFunction`.\n",
    "Note that you should only do this if the sparsity is high, for example, 0.1%\n",
    "of the matrix is non-zeros, otherwise the overhead of sparse matrices can be higher\n",
    "than the gains from sparse differentiation!\n",
    "\n",
    "[ADTypes.jl](https://github.com/SciML/ADTypes.jl) provides a [common interface for automatic sparsity detection](https://sciml.github.io/ADTypes.jl/stable/#Sparsity-detector)\n",
    "via its function `jacobian_sparsity`.\n",
    "This function can be called using sparsity detectors from [SparseConnectivityTracer.jl](https://github.com/adrhill/SparseConnectivityTracer.jl)\n",
    "or [Symbolics.jl](https://github.com/JuliaSymbolics/Symbolics.jl).\n",
    "\n",
    "We can give an example `du` and `u` and call `jacobian_sparsity` on our function with the example arguments,\n",
    "and it will kick out a sparse matrix with our pattern, that we can turn into our `jac_prototype`.\n",
    "\n",
    "Let's try SparseConnectivityTracer's [`TracerSparsityDetector`](https://adrianhill.de/SparseConnectivityTracer.jl/stable/user/api/#SparseConnectivityTracer.TracerSparsityDetector):"
   ]
  },
  {
   "cell_type": "code",
   "execution_count": null,
   "metadata": {},
   "outputs": [],
   "source": [
    "using SparseConnectivityTracer, ADTypes\n",
    "\n",
    "detector = TracerSparsityDetector()\n",
    "du0 = copy(u0)\n",
    "jac_sparsity = ADTypes.jacobian_sparsity(\n",
    "    (du, u) -> brusselator_2d_loop(du, u, p, 0.0), du0, u0, detector)"
   ]
  },
  {
   "cell_type": "markdown",
   "metadata": {},
   "source": [
    "Using a different backend for sparsity detection just requires swapping out the detector,\n",
    "e.g. for Symbolics' [`SymbolicsSparsityDetector`](https://docs.sciml.ai/Symbolics/stable/manual/sparsity_detection/#Symbolics.SymbolicsSparsityDetector).\n",
    "\n",
    "Notice that Julia gives a nice print out of the sparsity pattern.\n",
    "That's neat, and would be tedious to build by hand!\n",
    "Now we just pass it to the `ODEFunction` like as before:"
   ]
  },
  {
   "cell_type": "code",
   "execution_count": null,
   "metadata": {},
   "outputs": [],
   "source": [
    "f = ODEFunction(brusselator_2d_loop; jac_prototype = float.(jac_sparsity))"
   ]
  },
  {
   "cell_type": "code",
   "execution_count": null,
   "metadata": {},
   "outputs": [],
   "source": [
    "prob_ode_brusselator_2d_sparse = ODEProblem(f, u0, (0.0, 11.5), p)"
   ]
  },
  {
   "cell_type": "code",
   "execution_count": null,
   "metadata": {},
   "outputs": [],
   "source": []
  },
  {
   "cell_type": "code",
   "execution_count": null,
   "metadata": {},
   "outputs": [],
   "source": []
  },
  {
   "cell_type": "code",
   "execution_count": null,
   "metadata": {},
   "outputs": [],
   "source": []
  }
 ],
 "metadata": {
  "kernelspec": {
   "display_name": "Julia 1.11.1",
   "language": "julia",
   "name": "julia-1.11"
  },
  "language_info": {
   "file_extension": ".jl",
   "mimetype": "application/julia",
   "name": "julia",
   "version": "1.11.1"
  }
 },
 "nbformat": 4,
 "nbformat_minor": 2
}
