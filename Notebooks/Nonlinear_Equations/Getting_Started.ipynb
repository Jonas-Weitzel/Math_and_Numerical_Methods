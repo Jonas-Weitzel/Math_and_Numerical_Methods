{
 "cells": [
  {
   "cell_type": "markdown",
   "metadata": {},
   "source": [
    "# Solving nonlinear Equations in Julia"
   ]
  },
  {
   "cell_type": "markdown",
   "metadata": {},
   "source": []
  },
  {
   "cell_type": "markdown",
   "metadata": {},
   "source": [
    "There are four types of nonlinear systems:\n",
    "\n",
    " 1. The \"standard nonlinear system\", i.e. the `NonlinearProblem`. This is a system of\n",
    "    equations with an initial condition where you want to satisfy all equations\n",
    "    simultaneously.\n",
    " 2. The \"interval rootfinding problem\", i.e. the `IntervalNonlinearProblem`. This is the\n",
    "    case where you're given an interval `[a,b]` and need to find where `f(u) = 0` for `u`\n",
    "    inside the bounds.\n",
    " 3. The \"steady state problem\", i.e. find the `u` such that `u' = f(u) = 0`. While related\n",
    "    to (1), it's not entirely the same because there's a uniquely defined privileged root.\n",
    " 4. The nonlinear least squares problem, which is an under/over-constrained nonlinear system\n",
    "    which might not be satisfiable, i.e. there may be no `u` such that `f(u) = 0`, and thus\n",
    "    we find the `u` which minimizes `||f(u)||` in the least squares sense.\n",
    "\n",
    "One important distinction is that (1) and (3) require the input and output sizes to be the\n",
    "same, while (4) does not."
   ]
  },
  {
   "cell_type": "markdown",
   "metadata": {},
   "source": [
    "## Problem Type 1: Solving Nonlinear Systems of Equations\n",
    "\n",
    "A nonlinear system $$f(u) = 0$$ is specified by defining a function `f(u,p)`, where `p` are\n",
    "the parameters of the system. For example, the following solves the vector\n",
    "equation $$f(u) = u^2 - p$$ for a vector of equations:"
   ]
  },
  {
   "cell_type": "code",
   "execution_count": 17,
   "metadata": {},
   "outputs": [
    {
     "data": {
      "text/plain": [
       "retcode: Success\n",
       "u: 2-element Vector{Float64}:\n",
       " 1.4142135623730951\n",
       " 1.4142135623730951"
      ]
     },
     "metadata": {},
     "output_type": "display_data"
    }
   ],
   "source": [
    "using NonlinearSolve\n",
    "\n",
    "f(u, p) = u .* u .-p\n",
    "u0 = [1.0, 1.0]\n",
    "p = 2.0\n",
    "prob = NonlinearProblem(f, u0, p)\n",
    "sol = solve(prob)"
   ]
  },
  {
   "cell_type": "markdown",
   "metadata": {},
   "source": [
    "where `u0` is the initial condition for the rootfinder. Native NonlinearSolve.jl solvers use\n",
    "the given type of `u0` to determine the type used within the solver and the return. Note\n",
    "that the parameters `p` can be any type, but most are an AbstractArray for automatic\n",
    "differentiation."
   ]
  },
  {
   "cell_type": "markdown",
   "metadata": {},
   "source": [
    "### Investigating the Solution"
   ]
  },
  {
   "cell_type": "markdown",
   "metadata": {},
   "source": [
    "To investigate the solution, one can look at the elements of the `NonlinearSolution`. The\n",
    "most important value is `sol.u`: this is the `u` that satisfies `f(u) = 0`. For example:"
   ]
  },
  {
   "cell_type": "code",
   "execution_count": 3,
   "metadata": {},
   "outputs": [
    {
     "data": {
      "text/plain": [
       "2-element Vector{Float64}:\n",
       " 1.4142135623730951\n",
       " 1.4142135623730951"
      ]
     },
     "metadata": {},
     "output_type": "display_data"
    }
   ],
   "source": [
    "u = sol.u"
   ]
  },
  {
   "cell_type": "code",
   "execution_count": 4,
   "metadata": {},
   "outputs": [
    {
     "data": {
      "text/plain": [
       "2-element Vector{Float64}:\n",
       " 4.440892098500626e-16\n",
       " 4.440892098500626e-16"
      ]
     },
     "metadata": {},
     "output_type": "display_data"
    }
   ],
   "source": [
    "sol.resid"
   ]
  },
  {
   "cell_type": "code",
   "execution_count": 5,
   "metadata": {},
   "outputs": [
    {
     "data": {
      "text/plain": [
       "ReturnCode.Success = 1"
      ]
     },
     "metadata": {},
     "output_type": "display_data"
    }
   ],
   "source": [
    "sol.retcode"
   ]
  },
  {
   "cell_type": "markdown",
   "metadata": {},
   "source": [
    "There are multiple return codes which can mean the solve was successful, and thus we can use\n",
    "the general command `SciMLBase.successful_retcode` to check whether the solution process\n",
    "exited as intended:"
   ]
  },
  {
   "cell_type": "code",
   "execution_count": 6,
   "metadata": {},
   "outputs": [
    {
     "data": {
      "text/plain": [
       "true"
      ]
     },
     "metadata": {},
     "output_type": "display_data"
    }
   ],
   "source": [
    "SciMLBase.successful_retcode(sol)"
   ]
  },
  {
   "cell_type": "code",
   "execution_count": 7,
   "metadata": {},
   "outputs": [
    {
     "data": {
      "text/plain": [
       "SciMLBase.NLStats\n",
       "Number of function evaluations:                    7\n",
       "Number of Jacobians created:                       6\n",
       "Number of factorizations:                          5\n",
       "Number of linear solves:                           5\n",
       "Number of nonlinear solver iterations:             5"
      ]
     },
     "metadata": {},
     "output_type": "display_data"
    }
   ],
   "source": [
    "sol.stats"
   ]
  },
  {
   "cell_type": "markdown",
   "metadata": {},
   "source": [
    "### Interacting with the Solver Options"
   ]
  },
  {
   "cell_type": "code",
   "execution_count": null,
   "metadata": {},
   "outputs": [],
   "source": []
  },
  {
   "cell_type": "code",
   "execution_count": null,
   "metadata": {},
   "outputs": [],
   "source": []
  },
  {
   "cell_type": "code",
   "execution_count": null,
   "metadata": {},
   "outputs": [],
   "source": []
  }
 ],
 "metadata": {
  "kernelspec": {
   "display_name": "Julia 1.10.5",
   "language": "julia",
   "name": "julia-1.10"
  },
  "language_info": {
   "file_extension": ".jl",
   "mimetype": "application/julia",
   "name": "julia",
   "version": "1.10.5"
  }
 },
 "nbformat": 4,
 "nbformat_minor": 2
}
