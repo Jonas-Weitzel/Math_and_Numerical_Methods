{
 "cells": [
  {
   "cell_type": "markdown",
   "metadata": {},
   "source": [
    "# Solving nonlinear Equations in Julia"
   ]
  },
  {
   "cell_type": "markdown",
   "metadata": {},
   "source": []
  },
  {
   "cell_type": "markdown",
   "metadata": {},
   "source": [
    "There are four types of nonlinear systems:\n",
    "\n",
    " 1. The \"standard nonlinear system\", i.e. the `NonlinearProblem`. This is a system of\n",
    "    equations with an initial condition where you want to satisfy all equations\n",
    "    simultaneously.\n",
    " 2. The \"interval rootfinding problem\", i.e. the `IntervalNonlinearProblem`. This is the\n",
    "    case where you're given an interval `[a,b]` and need to find where `f(u) = 0` for `u`\n",
    "    inside the bounds.\n",
    " 3. The \"steady state problem\", i.e. find the `u` such that `u' = f(u) = 0`. While related\n",
    "    to (1), it's not entirely the same because there's a uniquely defined privileged root.\n",
    " 4. The nonlinear least squares problem, which is an under/over-constrained nonlinear system\n",
    "    which might not be satisfiable, i.e. there may be no `u` such that `f(u) = 0`, and thus\n",
    "    we find the `u` which minimizes `||f(u)||` in the least squares sense.\n",
    "\n",
    "One important distinction is that (1) and (3) require the input and output sizes to be the\n",
    "same, while (4) does not."
   ]
  },
  {
   "cell_type": "markdown",
   "metadata": {},
   "source": [
    "## Solving Nonlinear Systems of Equations\n",
    "\n",
    "A nonlinear system $$f(u) = 0$$ is specified by defining a function `f(u,p)`, where `p` are\n",
    "the parameters of the system. For example, the following solves the vector\n",
    "equation $$f(u) = u^2 - p$$ for a vector of equations:"
   ]
  },
  {
   "cell_type": "code",
   "execution_count": 1,
   "metadata": {},
   "outputs": [
    {
     "data": {
      "text/plain": [
       "retcode: Success\n",
       "u: 2-element Vector{Float64}:\n",
       " 1.4142135623730951\n",
       " 1.4142135623730951"
      ]
     },
     "metadata": {},
     "output_type": "display_data"
    }
   ],
   "source": [
    "using NonlinearSolve\n",
    "\n",
    "f(u, p) = u .* u .-p\n",
    "u0 = [1.0, 1.0]\n",
    "p = 2.0\n",
    "prob = NonlinearProblem(f, u0, p)\n",
    "sol = solve(prob)"
   ]
  },
  {
   "cell_type": "markdown",
   "metadata": {},
   "source": [
    "where `u0` is the initial condition for the rootfinder. Native NonlinearSolve.jl solvers use\n",
    "the given type of `u0` to determine the type used within the solver and the return. Note\n",
    "that the parameters `p` can be any type, but most are an AbstractArray for automatic\n",
    "differentiation."
   ]
  },
  {
   "cell_type": "markdown",
   "metadata": {},
   "source": [
    "### Investigating the Solution"
   ]
  },
  {
   "cell_type": "markdown",
   "metadata": {},
   "source": [
    "To investigate the solution, one can look at the elements of the `NonlinearSolution`. The\n",
    "most important value is `sol.u`: this is the `u` that satisfies `f(u) = 0`. For example:"
   ]
  },
  {
   "cell_type": "code",
   "execution_count": 2,
   "metadata": {},
   "outputs": [
    {
     "data": {
      "text/plain": [
       "2-element Vector{Float64}:\n",
       " 1.4142135623730951\n",
       " 1.4142135623730951"
      ]
     },
     "metadata": {},
     "output_type": "display_data"
    }
   ],
   "source": [
    "u = sol.u"
   ]
  },
  {
   "cell_type": "code",
   "execution_count": 3,
   "metadata": {},
   "outputs": [
    {
     "data": {
      "text/plain": [
       "2-element Vector{Float64}:\n",
       " 4.440892098500626e-16\n",
       " 4.440892098500626e-16"
      ]
     },
     "metadata": {},
     "output_type": "display_data"
    }
   ],
   "source": [
    "sol.resid"
   ]
  },
  {
   "cell_type": "code",
   "execution_count": 4,
   "metadata": {},
   "outputs": [
    {
     "data": {
      "text/plain": [
       "ReturnCode.Success = 1"
      ]
     },
     "metadata": {},
     "output_type": "display_data"
    }
   ],
   "source": [
    "sol.retcode"
   ]
  },
  {
   "cell_type": "markdown",
   "metadata": {},
   "source": [
    "There are multiple return codes which can mean the solve was successful, and thus we can use\n",
    "the general command `SciMLBase.successful_retcode` to check whether the solution process\n",
    "exited as intended:"
   ]
  },
  {
   "cell_type": "code",
   "execution_count": 5,
   "metadata": {},
   "outputs": [
    {
     "data": {
      "text/plain": [
       "true"
      ]
     },
     "metadata": {},
     "output_type": "display_data"
    }
   ],
   "source": [
    "SciMLBase.successful_retcode(sol)"
   ]
  },
  {
   "cell_type": "code",
   "execution_count": 6,
   "metadata": {},
   "outputs": [
    {
     "data": {
      "text/plain": [
       "SciMLBase.NLStats\n",
       "Number of function evaluations:                    7\n",
       "Number of Jacobians created:                       6\n",
       "Number of factorizations:                          5\n",
       "Number of linear solves:                           5\n",
       "Number of nonlinear solver iterations:             5"
      ]
     },
     "metadata": {},
     "output_type": "display_data"
    }
   ],
   "source": [
    "sol.stats"
   ]
  },
  {
   "cell_type": "markdown",
   "metadata": {},
   "source": [
    "### Interacting with the Solver Options"
   ]
  },
  {
   "cell_type": "markdown",
   "metadata": {},
   "source": [
    "While `sol = solve(prob)` worked for our case here, in many situations you may need to interact more deeply with how the solving process is done. First things first, you can specify the solver using the positional arguments. For example, let's set the solver to `TrustRegion()`:"
   ]
  },
  {
   "cell_type": "code",
   "execution_count": 7,
   "metadata": {},
   "outputs": [
    {
     "data": {
      "text/plain": [
       "retcode: Success\n",
       "u: 2-element Vector{Float64}:\n",
       " 1.4142135623730951\n",
       " 1.4142135623730951"
      ]
     },
     "metadata": {},
     "output_type": "display_data"
    }
   ],
   "source": [
    "solve(prob, TrustRegion())"
   ]
  },
  {
   "cell_type": "markdown",
   "metadata": {},
   "source": [
    "For a complete list of solver choices, see [the nonlinear system solvers page](#https://docs.sciml.ai/NonlinearSolve/stable/solvers/nonlinear_system_solvers/#nonlinearsystemsolvers)."
   ]
  },
  {
   "cell_type": "markdown",
   "metadata": {},
   "source": [
    "Next we can modify the tolerances. Here let's set some really low tolerances to force a tight solution:"
   ]
  },
  {
   "cell_type": "code",
   "execution_count": 8,
   "metadata": {},
   "outputs": [
    {
     "data": {
      "text/plain": [
       "retcode: Success\n",
       "u: 2-element Vector{Float64}:\n",
       " 1.4142135623730951\n",
       " 1.4142135623730951"
      ]
     },
     "metadata": {},
     "output_type": "display_data"
    }
   ],
   "source": [
    "solve(prob, TrustRegion(), reltol = 1e-12, abstol = 1e-12)"
   ]
  },
  {
   "cell_type": "markdown",
   "metadata": {},
   "source": [
    "## Solving Interval Rootfinding Problems with Bracketing Methods"
   ]
  },
  {
   "cell_type": "markdown",
   "metadata": {},
   "source": [
    "For scalar rootfinding problems, bracketing methods exist in NonlinearSolve. The difference with bracketing methods is that with bracketing methods, instead of giving a `u0` initial condition, you pass a `uspan (a,b)` bracket in which the zero is expected to live. For example:"
   ]
  },
  {
   "cell_type": "code",
   "execution_count": 9,
   "metadata": {},
   "outputs": [
    {
     "data": {
      "text/plain": [
       "retcode: Success\n",
       "u: 1.4142135623733618"
      ]
     },
     "metadata": {},
     "output_type": "display_data"
    }
   ],
   "source": [
    "using NonlinearSolve\n",
    "\n",
    "f(u, p) = u * u - 2.0\n",
    "uspan = (1.0, 2.0) # brackets\n",
    "prob_int = IntervalNonlinearProblem(f, uspan)\n",
    "sol = solve(prob_int)"
   ]
  },
  {
   "cell_type": "markdown",
   "metadata": {},
   "source": [
    "## Solving Steady State Problems"
   ]
  },
  {
   "cell_type": "markdown",
   "metadata": {},
   "source": [
    "For Steady State Problems, there is a wrapper package SteadyStateDiffEq.jl. This package automates handling SteadyStateProblems with NonlinearSolve and OrdinaryDiffEq."
   ]
  },
  {
   "cell_type": "code",
   "execution_count": 14,
   "metadata": {},
   "outputs": [
    {
     "data": {
      "text/plain": [
       "retcode: Success\n",
       "u: 2-element Vector{Float64}:\n",
       " 1.0\n",
       " 0.25"
      ]
     },
     "metadata": {},
     "output_type": "display_data"
    }
   ],
   "source": [
    "using NonlinearSolve, SteadyStateDiffEq\n",
    "\n",
    "f(u, p, t) = [2 - 2u[1]; u[1] - 4u[2]]\n",
    "u0 = [0.0, 0.0]\n",
    "prob = SteadyStateProblem(f, u0)\n",
    "\n",
    "solve(prob, SSRootfind())"
   ]
  },
  {
   "cell_type": "code",
   "execution_count": 23,
   "metadata": {},
   "outputs": [
    {
     "data": {
      "text/plain": [
       "simpleODE! (generic function with 1 method)"
      ]
     },
     "metadata": {},
     "output_type": "display_data"
    }
   ],
   "source": [
    "function simpleODE!(du, u, p, t)\n",
    "    a, b, c, f_source = p\n",
    "    c_vec = @view u[:]\n",
    "    du[1] = -a*c_vec[1] + b*c_vec[2] + f_source(c_vec[1])\n",
    "    du[2] = -b*c_vec[2] - c*c_vec[3]\n",
    "    du[3] = -c * c_vec[3] + a*c_vec[1]\n",
    "end"
   ]
  },
  {
   "cell_type": "code",
   "execution_count": 24,
   "metadata": {},
   "outputs": [
    {
     "data": {
      "text/plain": [
       "retcode: Success\n",
       "u: 3-element Vector{Float64}:\n",
       " 0.0\n",
       " 0.0\n",
       " 0.0"
      ]
     },
     "metadata": {},
     "output_type": "display_data"
    }
   ],
   "source": [
    "f_source(c) = c\n",
    "u0 = [1., 1., 1.]\n",
    "p = (0.1, 0.1, 0.1, f_source)\n",
    "prob = SteadyStateProblem(simpleODE!, u0, p)\n",
    "\n",
    "solve(prob, SSRootfind())"
   ]
  },
  {
   "cell_type": "markdown",
   "metadata": {},
   "source": [
    "## Solving Nonlinear Least Squares Problems"
   ]
  },
  {
   "cell_type": "code",
   "execution_count": 15,
   "metadata": {},
   "outputs": [
    {
     "data": {
      "text/plain": [
       "nlls! (generic function with 1 method)"
      ]
     },
     "metadata": {},
     "output_type": "display_data"
    }
   ],
   "source": [
    "using NonlinearSolve\n",
    "\n",
    "function nlls!(du, u, p)\n",
    "    du[1] = 2u[1] - 2\n",
    "    du[2] = u[1] - 4u[2]\n",
    "    du[3] = 0\n",
    "end"
   ]
  },
  {
   "cell_type": "markdown",
   "metadata": {},
   "source": [
    "Note that here the output array is of length 3 while the input array is of length 2. We need to provide the `resid_prototype` to tell the solver what the output size is (this can be skipped for out of place problems):"
   ]
  },
  {
   "cell_type": "code",
   "execution_count": 16,
   "metadata": {},
   "outputs": [
    {
     "data": {
      "text/plain": [
       "retcode: Success\n",
       "u: 2-element Vector{Float64}:\n",
       " 0.9999999999999998\n",
       " 0.25"
      ]
     },
     "metadata": {},
     "output_type": "display_data"
    }
   ],
   "source": [
    "u0 = [0.0, 0.0]\n",
    "prob = NonlinearLeastSquaresProblem(\n",
    "    NonlinearFunction(nlls!, resid_prototype = zeros(3)), u0)\n",
    "\n",
    "solve(prob)"
   ]
  },
  {
   "cell_type": "code",
   "execution_count": null,
   "metadata": {},
   "outputs": [],
   "source": []
  }
 ],
 "metadata": {
  "kernelspec": {
   "display_name": "Julia 1.11.4",
   "language": "julia",
   "name": "julia-1.11"
  },
  "language_info": {
   "file_extension": ".jl",
   "mimetype": "application/julia",
   "name": "julia",
   "version": "1.11.4"
  }
 },
 "nbformat": 4,
 "nbformat_minor": 2
}
