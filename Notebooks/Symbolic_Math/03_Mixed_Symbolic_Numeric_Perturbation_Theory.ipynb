{
 "cells": [
  {
   "cell_type": "markdown",
   "metadata": {},
   "source": [
    "# Mixed Symbolic-Numeric Perturbation Theory"
   ]
  },
  {
   "cell_type": "code",
   "execution_count": 2,
   "metadata": {},
   "outputs": [],
   "source": []
  },
  {
   "cell_type": "code",
   "execution_count": 3,
   "metadata": {},
   "outputs": [],
   "source": []
  },
  {
   "cell_type": "markdown",
   "metadata": {},
   "source": [
    "Perturbation methods are a collection of techniques to solve hard problems that generally don't have a closed solution, but depend on a tunable parameter and have closed or easy solutions for some values of this parameter. The main idea is to assume a solution that is a power series in the tunable parameter (say $ϵ$), such that $ϵ = 0$ corresponds to an easy solution, and then solve iteratively for higher-order corrections.\n",
    "\n",
    "This tutorial shows how to mix symbolic manipulations and numerical methods to solve algebraic equations with perturbation theory."
   ]
  },
  {
   "cell_type": "markdown",
   "metadata": {},
   "source": [
    "## Reminder: Taylor Series"
   ]
  },
  {
   "cell_type": "markdown",
   "metadata": {},
   "source": [
    "Say we want to approximate $\\cos(x)$ with a polynomial around $x_0=0$\n",
    "\n",
    "$$ P(x) = c_0 + c_1 x + c_2 x^2. $$\n",
    "\n",
    "We want to match value and the derivatives at that point.\n",
    "\n",
    "So \n",
    "\n",
    "$$ c_0 = \\cos(0) = 1. $$\n",
    "\n",
    "Then \n",
    "$$ \\frac{d(\\cos(x))}{dx}(0) = -\\sin(0) = 0 $$\n",
    "$$ \\frac{dP}{dx}(0) = c_1 + 2 c_2 0, $$\n",
    "hence set $c_1=1$ to match the derivative.\n",
    "\n",
    "Same game to find $c_2 = (-\\frac{1}{2}).$"
   ]
  },
  {
   "cell_type": "markdown",
   "metadata": {},
   "source": [
    "General:\n",
    "\n",
    "$$ P(x) = f(a) + \\frac{df}{dx}(a) \\frac{(x-a)^1}{1!} + \\frac{d^2f}{dx^2}(a) \\frac{(x-a)^2}{2!} + ... $$"
   ]
  },
  {
   "cell_type": "markdown",
   "metadata": {},
   "source": [
    "## Solving the Quintic Equation <a id=\"solving_the_quintic_equation\" />"
   ]
  },
  {
   "cell_type": "markdown",
   "metadata": {},
   "source": [
    "The “hello world!” analog of perturbation problems is to find a real solution $x$ to the quintic (fifth-order) equation"
   ]
  },
  {
   "cell_type": "code",
   "execution_count": 4,
   "metadata": {},
   "outputs": [
    {
     "data": {
      "text/latex": [
       "$$ \\begin{equation}\n",
       "x + x^{5} = 1\n",
       "\\end{equation}\n",
       " $$"
      ],
      "text/plain": [
       "x + x^5 ~ 1"
      ]
     },
     "metadata": {},
     "output_type": "display_data"
    }
   ],
   "source": [
    "using Symbolics\n",
    "@variables x\n",
    "quintic = x^5 + x ~ 1"
   ]
  },
  {
   "cell_type": "markdown",
   "metadata": {},
   "source": [
    "According to Abel's theorem, a general quintic equation does not have a closed form solution. But we can easily solve it numerically using Newton's method (here implemented for simplicity, and not performance):"
   ]
  },
  {
   "cell_type": "code",
   "execution_count": 6,
   "metadata": {},
   "outputs": [
    {
     "name": "stdout",
     "output_type": "stream",
     "text": [
      "Newton's method solution: x = 0.7548776662466927\n"
     ]
    }
   ],
   "source": [
    "function my_newton(eq, x, x0, abstol=1e-8, maxiter=50)\n",
    "    f = eq.lhs - eq.rhs\n",
    "    f_dash = Symbolics.derivative(f, x)\n",
    "\n",
    "    x_old = x0\n",
    "\n",
    "    for i = 1:maxiter\n",
    "        x_new = substitute(x - f / f_dash, x => x_old)\n",
    "        if abs(x_new - x_old) < abstol\n",
    "            return x_new\n",
    "        else\n",
    "            x_old = x_new\n",
    "        end\n",
    "    i += 1\n",
    "    end\n",
    "    error(\"Newton's method failed to converge.\")\n",
    "end\n",
    "\n",
    "x_newton = my_newton(quintic, x, 1.0)\n",
    "println(\"Newton's method solution: x = \", x_newton)"
   ]
  },
  {
   "cell_type": "markdown",
   "metadata": {},
   "source": [
    "To solve the problem with perturbation theory, we must introduce an expansion variable $\\epsilon$ in the equation:"
   ]
  },
  {
   "cell_type": "code",
   "execution_count": 7,
   "metadata": {},
   "outputs": [
    {
     "data": {
      "text/latex": [
       "$$ \\begin{equation}\n",
       "x \\epsilon + x^{5} = 1\n",
       "\\end{equation}\n",
       " $$"
      ],
      "text/plain": [
       "x*ϵ + x^5 ~ 1"
      ]
     },
     "metadata": {},
     "output_type": "display_data"
    }
   ],
   "source": [
    "@variables ϵ        # expansion variable\n",
    "quintic = x^5 + ϵ*x ~ 1"
   ]
  },
  {
   "cell_type": "markdown",
   "metadata": {},
   "source": [
    "If $ϵ = 1$, we get our original problem. With $ϵ = 0$, the problem transforms to the easy quintic equation $x^5 = 1$ with the trivial real solution $x = 1$ (and four complex solutions which we ignore). \n",
    "\n",
    "Next, expand $x$ as a power series in $ϵ$:"
   ]
  },
  {
   "cell_type": "code",
   "execution_count": 8,
   "metadata": {},
   "outputs": [
    {
     "data": {
      "text/latex": [
       "$$ \\begin{equation}\n",
       "a_{0} + a_{1} \\epsilon + \\epsilon^{2} a_{2} + \\epsilon^{3} a_{3} + \\epsilon^{4} a_{4} + \\epsilon^{5} a_{5} + \\epsilon^{6} a_{6} + \\epsilon^{7} a_{7}\n",
       "\\end{equation}\n",
       " $$"
      ],
      "text/plain": [
       "a[0] + a[1]*ϵ + a[2]*(ϵ^2) + a[3]*(ϵ^3) + a[4]*(ϵ^4) + a[5]*(ϵ^5) + a[6]*(ϵ^6) + a[7]*(ϵ^7)"
      ]
     },
     "metadata": {},
     "output_type": "display_data"
    }
   ],
   "source": [
    "x_coeffs, = @variables a[0:7]       # create Taylor series coefficients\n",
    "x_taylor = series(x_coeffs, ϵ)      # expand x in a power series in ϵ"
   ]
  },
  {
   "cell_type": "markdown",
   "metadata": {},
   "source": [
    "Then insert this into the quintic equation and expand it, too, to the same order:"
   ]
  },
  {
   "cell_type": "code",
   "execution_count": 9,
   "metadata": {},
   "outputs": [
    {
     "data": {
      "text/latex": [
       "$$ \\begin{equation}\n",
       "a_{0}^{5} + \\left( a_{0} + 5 a_{0}^{4} a_{1} \\right) \\epsilon + \\frac{1}{2} \\epsilon^{2} \\left( 2 a_{1} + 10 a_{0}^{4} a_{2} + 20 a_{1}^{2} a_{0}^{3} \\right) + \\frac{1}{6} \\epsilon^{3} \\left( 6 a_{2} + 30 a_{0}^{4} a_{3} + 120 a_{0}^{3} a_{1} a_{2} + 60 a_{1}^{3} a_{0}^{2} \\right) + \\frac{1}{24} \\epsilon^{4} \\left( 24 a_{3} + 120 a_{0}^{4} a_{4} + 480 a_{0}^{3} a_{1} a_{3} + 240 a_{2}^{2} a_{0}^{3} + 720 a_{1}^{2} a_{0}^{2} a_{2} + 120 a_{1}^{4} a_{0} \\right) + \\frac{1}{120} \\epsilon^{5} \\left( 120 a_{4} + 600 a_{0}^{4} a_{5} + 2400 a_{0}^{3} a_{1} a_{4} + 2400 a_{0}^{3} a_{2} a_{3} + 3600 a_{1}^{2} a_{0}^{2} a_{3} + 3600 a_{2}^{2} a_{0}^{2} a_{1} + 2400 a_{1}^{3} a_{0} a_{2} + 120 a_{1}^{5} \\right) + \\frac{1}{720} \\epsilon^{6} \\left( 720 a_{5} + 3600 a_{0}^{4} a_{6} + 14400 a_{0}^{3} a_{1} a_{5} + 14400 a_{0}^{3} a_{2} a_{4} + 7200 a_{3}^{2} a_{0}^{3} + 21600 a_{1}^{2} a_{0}^{2} a_{4} + 43200 a_{0}^{2} a_{1} a_{2} a_{3} + 7200 a_{2}^{3} a_{0}^{2} + 14400 a_{1}^{3} a_{0} a_{3} + 21600 a_{2}^{2} a_{1}^{2} a_{0} + 3600 a_{1}^{4} a_{2} \\right) + \\frac{1}{5040} \\epsilon^{7} \\left( 5040 a_{6} + 25200 a_{0}^{4} a_{7} + 100800 a_{0}^{3} a_{1} a_{6} + 100800 a_{0}^{3} a_{2} a_{5} + 100800 a_{0}^{3} a_{3} a_{4} + 151200 a_{1}^{2} a_{0}^{2} a_{5} + 302400 a_{0}^{2} a_{1} a_{2} a_{4} + 151200 a_{3}^{2} a_{0}^{2} a_{1} + 151200 a_{2}^{2} a_{0}^{2} a_{3} + 100800 a_{1}^{3} a_{0} a_{4} + 302400 a_{1}^{2} a_{0} a_{2} a_{3} + 100800 a_{2}^{3} a_{0} a_{1} + 25200 a_{1}^{4} a_{3} + 50400 a_{2}^{2} a_{1}^{3} \\right) = 1\n",
       "\\end{equation}\n",
       " $$"
      ],
      "text/plain": [
       "a[0]^5 + (a[0] + 5(a[0]^4)*a[1])*ϵ + (1//2)*(2a[1] + 10(a[0]^4)*a[2] + 20(a[0]^3)*(a[1]^2))*(ϵ^2) + (1//6)*(6a[2] + 30(a[0]^4)*a[3] + 120(a[0]^3)*a[1]*a[2] + 60(a[0]^2)*(a[1]^3))*(ϵ^3) + (1//24)*(24a[3] + 120(a[0]^4)*a[4] + 480(a[0]^3)*a[1]*a[3] + (240//1)*(a[0]^3)*(a[2]^2) + 720(a[0]^2)*(a[1]^2)*a[2] + 120a[0]*(a[1]^4))*(ϵ^4) + (1//120)*(120a[4] + 600(a[0]^4)*a[5] + 2400(a[0]^3)*a[1]*a[4] + 2400(a[0]^3)*a[2]*a[3] + 3600(a[0]^2)*(a[1]^2)*a[3] + (3600//1)*(a[0]^2)*a[1]*(a[2]^2) + 2400a[0]*(a[1]^3)*a[2] + 120(a[1]^5))*(ϵ^5) + (1//720)*(720a[5] + 3600(a[0]^4)*a[6] + 14400(a[0]^3)*a[1]*a[5] + 14400(a[0]^3)*a[2]*a[4] + (7200//1)*(a[0]^3)*(a[3]^2) + 21600(a[0]^2)*(a[1]^2)*a[4] + 43200(a[0]^2)*a[1]*a[2]*a[3] + (7200//1)*(a[0]^2)*(a[2]^3) + 14400a[0]*(a[1]^3)*a[3] + (21600//1)*a[0]*(a[1]^2)*(a[2]^2) + 3600(a[1]^4)*a[2])*(ϵ^6) + (1//5040)*(5040a[6] + 25200(a[0]^4)*a[7] + 100800(a[0]^3)*a[1]*a[6] + 100800(a[0]^3)*a[2]*a[5] + 100800(a[0]^3)*a[3]*a[4] + 151200(a[0]^2)*(a[1]^2)*a[5] + 302400(a[0]^2)*a[1]*a[2]*a[4] + (151200//1)*(a[0]^2)*a[1]*(a[3]^2) + (151200//1)*(a[0]^2)*(a[2]^2)*a[3] + 100800a[0]*(a[1]^3)*a[4] + 302400a[0]*(a[1]^2)*a[2]*a[3] + (100800//1)*a[0]*a[1]*(a[2]^3) + 25200(a[1]^4)*a[3] + (50400//1)*(a[1]^3)*(a[2]^2))*(ϵ^7) ~ 1//1"
      ]
     },
     "metadata": {},
     "output_type": "display_data"
    }
   ],
   "source": [
    "quintic_taylor = substitute(quintic, x => x_taylor)\n",
    "quintic_taylor = taylor(quintic_taylor, ϵ, 0:7)"
   ]
  },
  {
   "cell_type": "markdown",
   "metadata": {},
   "source": [
    "This messy equation must hold for each power of $ϵ$, so we can separate it into one nicer equation per order:"
   ]
  },
  {
   "cell_type": "code",
   "execution_count": 10,
   "metadata": {},
   "outputs": [
    {
     "data": {
      "text/latex": [
       "$$ \\begin{align}\n",
       "a_{0}^{5} &= 1 \\\\\n",
       "a_{0} + 5 a_{0}^{4} a_{1} &= 0 \\\\\n",
       "\\frac{1}{2} \\left( 2 a_{1} + 10 a_{0}^{4} a_{2} + 20 a_{1}^{2} a_{0}^{3} \\right) &= 0 \\\\\n",
       "\\frac{1}{6} \\left( 6 a_{2} + 30 a_{0}^{4} a_{3} + 120 a_{0}^{3} a_{1} a_{2} + 60 a_{1}^{3} a_{0}^{2} \\right) &= 0 \\\\\n",
       "\\frac{1}{24} \\left( 24 a_{3} + 120 a_{0}^{4} a_{4} + 480 a_{0}^{3} a_{1} a_{3} + 240 a_{2}^{2} a_{0}^{3} + 720 a_{1}^{2} a_{0}^{2} a_{2} + 120 a_{1}^{4} a_{0} \\right) &= 0\n",
       "\\end{align}\n",
       " $$"
      ],
      "text/plain": [
       "5-element Vector{Equation}:\n",
       " a[0]^5 ~ 1//1\n",
       " a[0] + 5(a[0]^4)*a[1] ~ 0//1\n",
       " (1//2)*(2a[1] + 10(a[0]^4)*a[2] + 20(a[0]^3)*(a[1]^2)) ~ 0//1\n",
       " (1//6)*(6a[2] + 30(a[0]^4)*a[3] + 120(a[0]^3)*a[1]*a[2] + 60(a[0]^2)*(a[1]^3)) ~ 0//1\n",
       " (1//24)*(24a[3] + 120(a[0]^4)*a[4] + 480(a[0]^3)*a[1]*a[3] + (240//1)*(a[0]^3)*(a[2]^2) + 720(a[0]^2)*(a[1]^2)*a[2] + 120a[0]*(a[1]^4)) ~ 0//1"
      ]
     },
     "metadata": {},
     "output_type": "display_data"
    }
   ],
   "source": [
    "quintic_eqs = taylor_coeff(quintic_taylor, ϵ, 0:7)\n",
    "quintic_eqs[1:5] # for readability, show only 5 shortest equations"
   ]
  },
  {
   "cell_type": "code",
   "execution_count": null,
   "metadata": {},
   "outputs": [],
   "source": []
  }
 ],
 "metadata": {
  "kernelspec": {
   "display_name": "Julia 1.11.1",
   "language": "julia",
   "name": "julia-1.11"
  },
  "language_info": {
   "file_extension": ".jl",
   "mimetype": "application/julia",
   "name": "julia",
   "version": "1.11.1"
  }
 },
 "nbformat": 4,
 "nbformat_minor": 2
}
